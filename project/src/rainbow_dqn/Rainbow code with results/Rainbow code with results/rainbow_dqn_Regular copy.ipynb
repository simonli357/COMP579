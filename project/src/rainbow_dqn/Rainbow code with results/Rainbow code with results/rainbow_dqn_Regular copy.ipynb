{
 "cells": [
  {
   "cell_type": "code",
   "execution_count": null,
   "id": "4ee51aa8-037a-4edb-a1cf-24ceb51316ca",
   "metadata": {},
   "outputs": [
    {
     "name": "stderr",
     "output_type": "stream",
     "text": [
      "/Users/cucuba/Library/Python/3.9/lib/python/site-packages/urllib3/__init__.py:35: NotOpenSSLWarning: urllib3 v2 only supports OpenSSL 1.1.1+, currently the 'ssl' module is compiled with 'LibreSSL 2.8.3'. See: https://github.com/urllib3/urllib3/issues/3020\n",
      "  warnings.warn(\n"
     ]
    },
    {
     "name": "stdout",
     "output_type": "stream",
     "text": [
      "Device: cpu\n"
     ]
    }
   ],
   "source": [
    "#%%\n",
    "\n",
    "import gym\n",
    "import math\n",
    "import numpy as np\n",
    "import cv2\n",
    "import matplotlib.pyplot as plt\n",
    "from tqdm import tqdm\n",
    "import os\n",
    "import pickle\n",
    "\n",
    "import torch\n",
    "import torch.nn as nn\n",
    "import torch.optim as optim\n",
    "import torch.nn.functional as F\n",
    "\n",
    "device = torch.device(\"cuda\" if torch.cuda.is_available() else \"cpu\")\n",
    "print(f\"Device: {device}\")"
   ]
  },
  {
   "cell_type": "code",
   "execution_count": null,
   "id": "27af1a68-4c91-47e4-9427-a8e1f0321050",
   "metadata": {},
   "outputs": [],
   "source": [
    "#%%\n",
    "\n",
    "class PreprocessFrame(gym.ObservationWrapper):\n",
    "    def __init__(self, env, height=84, width=84, grayscale=True):\n",
    "        super(PreprocessFrame, self).__init__(env)\n",
    "        self.height = height\n",
    "        self.width = width\n",
    "        self.grayscale = grayscale\n",
    "        self.observation_space = gym.spaces.Box(low=0, high=1.0,\n",
    "                                                shape=(self.height, self.width),\n",
    "                                                dtype=np.float32)\n",
    "        \n",
    "    def observation(self, obs):\n",
    "        if self.grayscale:\n",
    "            obs = cv2.cvtColor(obs, cv2.COLOR_RGB2GRAY)\n",
    "        obs = cv2.resize(obs, (self.width, self.height), interpolation=cv2.INTER_AREA)\n",
    "        obs = obs.astype(np.float32) / 255.0\n",
    "        return obs"
   ]
  },
  {
   "cell_type": "code",
   "execution_count": null,
   "id": "90f3a9f1-6216-4d4b-819d-0c7ee1bb6647",
   "metadata": {},
   "outputs": [],
   "source": [
    "#%%\n",
    "\n",
    "class NoisyLinear(nn.Module):\n",
    "    def __init__(self, in_features, out_features, sigma_init=0.017):\n",
    "        super(NoisyLinear, self).__init__()\n",
    "        self.in_features = in_features\n",
    "        self.out_features = out_features\n",
    "\n",
    "        self.weight_mu = nn.Parameter(torch.FloatTensor(out_features, in_features))\n",
    "        self.weight_sigma = nn.Parameter(torch.FloatTensor(out_features, in_features))\n",
    "        self.register_buffer('weight_epsilon', torch.FloatTensor(out_features, in_features))\n",
    "        \n",
    "        self.bias_mu = nn.Parameter(torch.FloatTensor(out_features))\n",
    "        self.bias_sigma = nn.Parameter(torch.FloatTensor(out_features))\n",
    "        self.register_buffer('bias_epsilon', torch.FloatTensor(out_features))\n",
    "        \n",
    "        self.sigma_init = sigma_init\n",
    "        self.reset_parameters()\n",
    "        self.reset_noise()\n",
    "        \n",
    "    def reset_parameters(self):\n",
    "        bound = 1 / math.sqrt(self.in_features)\n",
    "        self.weight_mu.data.uniform_(-bound, bound)\n",
    "        self.weight_sigma.data.fill_(self.sigma_init / math.sqrt(self.in_features))\n",
    "        self.bias_mu.data.uniform_(-bound, bound)\n",
    "        self.bias_sigma.data.fill_(self.sigma_init / math.sqrt(self.out_features))\n",
    "        \n",
    "    def reset_noise(self):\n",
    "        epsilon_in = self._scale_noise(self.in_features)\n",
    "        epsilon_out = self._scale_noise(self.out_features)\n",
    "        self.weight_epsilon.copy_(epsilon_out.ger(epsilon_in))\n",
    "        self.bias_epsilon.copy_(epsilon_out)\n",
    "        \n",
    "    def _scale_noise(self, size):\n",
    "        x = torch.randn(size)\n",
    "        return x.sign().mul(x.abs().sqrt())\n",
    "    \n",
    "    def forward(self, input):\n",
    "        if self.training:\n",
    "            weight = self.weight_mu + self.weight_sigma * self.weight_epsilon\n",
    "            bias = self.bias_mu + self.bias_sigma * self.bias_epsilon\n",
    "        else:\n",
    "            weight = self.weight_mu\n",
    "            bias = self.bias_mu\n",
    "        return F.linear(input, weight, bias)"
   ]
  },
  {
   "cell_type": "code",
   "execution_count": null,
   "id": "da94518c-9174-4777-960b-7b438cc24484",
   "metadata": {},
   "outputs": [],
   "source": [
    "#%%\n",
    "\n",
    "class RainbowDQN(nn.Module):\n",
    "    def __init__(self, input_channels, num_actions, num_atoms=51, v_min=-10, v_max=10):\n",
    "        super(RainbowDQN, self).__init__()\n",
    "        self.num_actions = num_actions\n",
    "        self.num_atoms = num_atoms\n",
    "        self.v_min = v_min\n",
    "        self.v_max = v_max\n",
    "        self.register_buffer(\"support\", torch.linspace(v_min, v_max, num_atoms))\n",
    "        self.delta_z = (v_max - v_min) / (num_atoms - 1)\n",
    "        \n",
    "        self.conv1 = nn.Conv2d(input_channels, 32, kernel_size=8, stride=4)\n",
    "        self.conv2 = nn.Conv2d(32, 64, kernel_size=4, stride=2)\n",
    "        self.conv3 = nn.Conv2d(64, 64, kernel_size=3, stride=1)\n",
    "        \n",
    "        def conv2d_size_out(size, kernel_size, stride):\n",
    "            return (size - kernel_size) // stride + 1\n",
    "        convw = conv2d_size_out(conv2d_size_out(conv2d_size_out(84, 8, 4), 4, 2), 3, 1)\n",
    "        convh = conv2d_size_out(conv2d_size_out(conv2d_size_out(84, 8, 4), 4, 2), 3, 1)\n",
    "        linear_input_size = convw * convh * 64\n",
    "        \n",
    "        self.fc_value = NoisyLinear(linear_input_size, 512)\n",
    "        self.fc_advantage = NoisyLinear(linear_input_size, 512)\n",
    "        self.value_stream = NoisyLinear(512, num_atoms)\n",
    "        self.advantage_stream = NoisyLinear(512, num_actions * num_atoms)\n",
    "        \n",
    "    def forward(self, x):\n",
    "        x = F.relu(self.conv1(x))\n",
    "        x = F.relu(self.conv2(x))\n",
    "        x = F.relu(self.conv3(x))\n",
    "        x = x.view(x.size(0), -1)\n",
    "        \n",
    "        value = F.relu(self.fc_value(x))\n",
    "        advantage = F.relu(self.fc_advantage(x))\n",
    "        value = self.value_stream(value)  # shape: (batch, num_atoms)\n",
    "        advantage = self.advantage_stream(advantage)  # shape: (batch, num_actions * num_atoms)\n",
    "        advantage = advantage.view(-1, self.num_actions, self.num_atoms)\n",
    "        \n",
    "        q_atoms = value.unsqueeze(1) + advantage - advantage.mean(dim=1, keepdim=True)\n",
    "        q_dist = F.softmax(q_atoms, dim=2)\n",
    "        q_dist = q_dist.clamp(min=1e-3)  # for numerical stability\n",
    "        return q_dist\n",
    "    \n",
    "    def reset_noise(self):\n",
    "        for name, module in self.named_children():\n",
    "            if isinstance(module, NoisyLinear):\n",
    "                module.reset_noise()"
   ]
  },
  {
   "cell_type": "code",
   "execution_count": null,
   "id": "cad7aee8-c655-445b-8bb4-cce54aae4b85",
   "metadata": {},
   "outputs": [],
   "source": [
    "#%%\n",
    "\n",
    "class PrioritizedReplayBuffer:\n",
    "    def __init__(self, capacity, alpha):\n",
    "        self.capacity = capacity\n",
    "        self.alpha = alpha\n",
    "        self.buffer = []\n",
    "        self.priorities = np.zeros((capacity,), dtype=np.float32)\n",
    "        self.pos = 0\n",
    "        \n",
    "    def push(self, state, action, reward, next_state, done):\n",
    "        max_priority = self.priorities.max() if self.buffer else 1.0\n",
    "        if len(self.buffer) < self.capacity:\n",
    "            self.buffer.append((state, action, reward, next_state, done))\n",
    "        else:\n",
    "            self.buffer[self.pos] = (state, action, reward, next_state, done)\n",
    "        self.priorities[self.pos] = max_priority\n",
    "        self.pos = (self.pos + 1) % self.capacity\n",
    "        \n",
    "    def sample(self, batch_size, beta):\n",
    "        if len(self.buffer) == self.capacity:\n",
    "            prios = self.priorities\n",
    "        else:\n",
    "            prios = self.priorities[:len(self.buffer)]\n",
    "        probs = prios ** self.alpha\n",
    "        probs /= probs.sum()\n",
    "        indices = np.random.choice(len(self.buffer), batch_size, p=probs)\n",
    "        samples = [self.buffer[idx] for idx in indices]\n",
    "        total = len(self.buffer)\n",
    "        weights = (total * probs[indices]) ** (-beta)\n",
    "        weights /= weights.max()\n",
    "        weights = np.array(weights, dtype=np.float32)\n",
    "        batch = list(zip(*samples))\n",
    "        states = np.array(batch[0])\n",
    "        actions = np.array(batch[1])\n",
    "        rewards = np.array(batch[2])\n",
    "        next_states = np.array(batch[3])\n",
    "        dones = np.array(batch[4])\n",
    "        return states, actions, rewards, next_states, dones, indices, weights\n",
    "        \n",
    "    def update_priorities(self, batch_indices, batch_priorities):\n",
    "        for idx, priority in zip(batch_indices, batch_priorities):\n",
    "            self.priorities[idx] = priority"
   ]
  },
  {
   "cell_type": "code",
   "execution_count": null,
   "id": "588d9544-c0ad-4b57-86fb-8670f05286bd",
   "metadata": {},
   "outputs": [],
   "source": [
    "#%%\n",
    "\n",
    "class RainbowDQNAgent:\n",
    "    def __init__(self, env, input_channels, num_actions,\n",
    "                 num_atoms=51, v_min=-10, v_max=10,\n",
    "                 learning_rate=1e-4, gamma=0.99,\n",
    "                 buffer_size=100000, batch_size=32, multi_step=3,\n",
    "                 update_target_every=1000, alpha=0.6,\n",
    "                 beta_start=0.4, beta_frames=100000):\n",
    "        \n",
    "        self.env = env\n",
    "        self.num_actions = num_actions\n",
    "        self.batch_size = batch_size\n",
    "        self.gamma = gamma\n",
    "        self.multi_step = multi_step\n",
    "        self.update_target_every = update_target_every\n",
    "        self.beta_start = beta_start\n",
    "        self.beta_frames = beta_frames\n",
    "        self.frame_idx = 0\n",
    "        self.beta = beta_start\n",
    "        \n",
    "        self.num_atoms = num_atoms\n",
    "        self.v_min = v_min\n",
    "        self.v_max = v_max\n",
    "        self.delta_z = (v_max - v_min) / (num_atoms - 1)\n",
    "        self.support = torch.linspace(v_min, v_max, num_atoms).to(device)\n",
    "        \n",
    "        self.online_net = RainbowDQN(input_channels, num_actions, num_atoms, v_min, v_max).to(device)\n",
    "        self.target_net = RainbowDQN(input_channels, num_actions, num_atoms, v_min, v_max).to(device)\n",
    "        self.target_net.load_state_dict(self.online_net.state_dict())\n",
    "        \n",
    "        self.optimizer = optim.Adam(self.online_net.parameters(), lr=learning_rate)\n",
    "        self.replay_buffer = PrioritizedReplayBuffer(buffer_size, alpha)\n",
    "    \n",
    "    def select_action(self, state):\n",
    "        state = np.array(state)\n",
    "        if state.ndim == 3 and state.shape[-1] == 4:\n",
    "            state = torch.FloatTensor(state).permute(2, 0, 1).unsqueeze(0).to(device)\n",
    "        elif state.ndim == 3 and state.shape[0] == 4:\n",
    "            state = torch.FloatTensor(state).unsqueeze(0).to(device)\n",
    "        else:\n",
    "            raise ValueError(\"Unexpected state shape: {}\".format(state.shape))\n",
    "        with torch.no_grad():\n",
    "            self.online_net.reset_noise()\n",
    "            q_dist = self.online_net(state)  # (1, num_actions, num_atoms)\n",
    "            q_values = torch.sum(q_dist * self.support, dim=2)\n",
    "            action = q_values.argmax(1).item()\n",
    "        return action\n",
    "    \n",
    "    def projection_distribution(self, next_state, reward, done):\n",
    "        \"\"\"\n",
    "        Compute the projection of the target distribution onto the fixed support.\n",
    "        \"\"\"\n",
    "        with torch.no_grad():\n",
    "            self.target_net.reset_noise()\n",
    "            next_state = torch.FloatTensor(next_state).to(device)\n",
    "            if next_state.ndim == 3:\n",
    "                next_state = next_state.unsqueeze(0)\n",
    "            next_dist = self.target_net(next_state)  # shape: (1, num_actions, num_atoms)\n",
    "            q_values = torch.sum(next_dist * self.support, dim=2)\n",
    "            next_action = q_values.argmax(1).item()  # Convert to scalar\n",
    "            next_dist = next_dist[0, next_action] \n",
    "        \n",
    "        Tz = reward + (1 - done) * (self.gamma ** self.multi_step) * self.support.cpu().numpy()\n",
    "        Tz = np.clip(Tz, self.v_min, self.v_max)\n",
    "        b = (Tz - self.v_min) / self.delta_z\n",
    "        l = np.floor(b).astype(np.int64)\n",
    "        u = np.ceil(b).astype(np.int64)\n",
    "        \n",
    "        m = np.zeros(self.num_atoms, dtype=np.float32)\n",
    "        for i in range(self.num_atoms):\n",
    "            # Distribute probability mass to l and u\n",
    "            if l[i] == u[i]:\n",
    "                m[l[i]] += next_dist[i].item()\n",
    "            else:\n",
    "                m[l[i]] += next_dist[i].item() * (u[i] - b[i])\n",
    "                m[u[i]] += next_dist[i].item() * (b[i] - l[i])\n",
    "        return torch.FloatTensor(m).to(device)\n",
    "    \n",
    "    def update(self):\n",
    "        if len(self.replay_buffer.buffer) < self.batch_size:\n",
    "            return\n",
    "        # Anneal beta towards 1\n",
    "        self.beta = min(1.0, self.beta_start + self.frame_idx * (1.0 - self.beta_start) / self.beta_frames)\n",
    "        states, actions, rewards, next_states, dones, indices, weights = self.replay_buffer.sample(self.batch_size, self.beta)\n",
    "        \n",
    "        states = torch.FloatTensor(states).to(device)\n",
    "        if states.ndim == 4 and states.shape[-1] == 4:\n",
    "            states = states.permute(0, 3, 1, 2)\n",
    "        next_states = torch.FloatTensor(next_states).to(device)\n",
    "        if next_states.ndim == 4 and next_states.shape[-1] == 4:\n",
    "            next_states = next_states.permute(0, 3, 1, 2)\n",
    "        actions = torch.LongTensor(actions).to(device)\n",
    "        rewards = torch.FloatTensor(rewards).to(device)\n",
    "        dones = torch.FloatTensor(dones).to(device)\n",
    "        weights = torch.FloatTensor(weights).to(device)\n",
    "        \n",
    "        self.online_net.reset_noise()\n",
    "        dist = self.online_net(states)  # shape: (batch, num_actions, num_atoms)\n",
    "        actions = actions.unsqueeze(1).unsqueeze(1).expand(self.batch_size, 1, self.num_atoms)\n",
    "        dist = dist.gather(1, actions).squeeze(1)  # shape: (batch, num_atoms)\n",
    "        dist = dist.clamp(min=1e-3)\n",
    "        \n",
    "        target_dist = []\n",
    "        for i in range(self.batch_size):\n",
    "            target_m = self.projection_distribution(next_states[i].cpu().numpy(),\n",
    "                                          rewards[i].item(), dones[i].item())\n",
    "\n",
    "            target_dist.append(target_m)\n",
    "        target_dist = torch.stack(target_dist)  # shape: (batch, num_atoms)\n",
    "        \n",
    "        log_p = torch.log(dist)\n",
    "        sample_losses = - (target_dist * log_p).sum(1)\n",
    "        loss = (sample_losses * weights).mean()\n",
    "        \n",
    "        self.optimizer.zero_grad()\n",
    "        loss.backward()\n",
    "        self.optimizer.step()\n",
    "        \n",
    "        new_priorities = sample_losses.detach().cpu().numpy() + 1e-6\n",
    "        self.replay_buffer.update_priorities(indices, new_priorities)\n",
    "        \n",
    "        if self.frame_idx % self.update_target_every == 0:\n",
    "            self.target_net.load_state_dict(self.online_net.state_dict())\n",
    "    \n",
    "    def train(self, num_frames):\n",
    "        state = self.env.reset()\n",
    "        episode_reward = 0\n",
    "        all_rewards = []\n",
    "        pbar = tqdm(total=num_frames, desc=\"Training\", initial=self.frame_idx)\n",
    "        while self.frame_idx < num_frames:\n",
    "            action = self.select_action(state)\n",
    "            next_state, reward, done, _ = self.env.step(action)\n",
    "            self.replay_buffer.push(state, action, reward, next_state, done)\n",
    "            state = next_state\n",
    "            episode_reward += reward\n",
    "\n",
    "            self.update()\n",
    "            self.frame_idx += 1\n",
    "            pbar.update(1)\n",
    "\n",
    "            if done:\n",
    "                state = self.env.reset()\n",
    "                all_rewards.append(episode_reward)\n",
    "                pbar.set_postfix({'Episode Reward': episode_reward})\n",
    "                print(f\"Frame: {self.frame_idx}, Episode Reward: {episode_reward}\")\n",
    "                episode_reward = 0\n",
    "        pbar.close()\n",
    "        print(\"▶Training finished!\")  # new add\n",
    "        return all_rewards"
   ]
  },
  {
   "cell_type": "code",
   "execution_count": null,
   "id": "1445077f-4aa4-4b08-97fa-0117a8b21e8a",
   "metadata": {},
   "outputs": [
    {
     "data": {
      "text/plain": [
       "'\\nlrs       = [1e-5, 5e-5]\\nmulti_ss  = [3,    5]\\nalphas    = [0.4,  0.6]\\n\\n'"
      ]
     },
     "execution_count": 7,
     "metadata": {},
     "output_type": "execute_result"
    }
   ],
   "source": [
    "#%%\n",
    "\n",
    "def run_experiment(hparams):\n",
    "    env = gym.make('MsPacman-v0')\n",
    "    env = PreprocessFrame(env)\n",
    "    env = gym.wrappers.FrameStack(env, num_stack=4)\n",
    "    \n",
    "    num_actions = env.action_space.n\n",
    "    input_channels = 4 \n",
    "    \n",
    "    agent = RainbowDQNAgent(\n",
    "        env,\n",
    "        input_channels,\n",
    "        num_actions,\n",
    "        num_atoms=hparams.get('num_atoms', 51),\n",
    "        v_min=hparams.get('v_min', -10),\n",
    "        v_max=hparams.get('v_max', 10),\n",
    "        learning_rate=hparams['learning_rate'],\n",
    "        gamma=hparams['gamma'],\n",
    "        buffer_size=hparams['buffer_size'],\n",
    "        batch_size=hparams['batch_size'],\n",
    "        multi_step=hparams['multi_step'],\n",
    "        update_target_every=hparams['update_target_every'],\n",
    "        alpha=hparams['alpha'],\n",
    "        beta_start=hparams['beta_start'],\n",
    "        beta_frames=hparams['beta_frames']\n",
    "    )\n",
    "\n",
    "    # Train the agent and collect rewards\n",
    "    rewards = agent.train(hparams['total_frames'])\n",
    "    return rewards\n",
    "    \n",
    "\n",
    "    \n",
    "    \"\"\"current_dir = os.path.dirname(os.path.abspath(__file__))\n",
    "    \n",
    "    # load saved model\n",
    "    name = '0'\n",
    "    weights_path = os.path.join(current_dir, \"weights\",  f\"rainbow_dqn_weights_{name}.pth\")\n",
    "    if os.path.exists(weights_path):\n",
    "        print(\"Loading saved model weights...\")\n",
    "        agent.online_net.load_state_dict(torch.load(weights_path))\n",
    "        agent.target_net.load_state_dict(agent.online_net.state_dict())\n",
    "    else:\n",
    "        print(\"No saved model weights found. Starting training from scratch.\")\n",
    "    if os.path.exists(os.path.join(current_dir, \"weights\", f\"rainbow_dqn_state_{name}.pkl\")):\n",
    "        print(\"Loading training state...\")\n",
    "        with open(os.path.join(current_dir, \"weights\", f\"rainbow_dqn_state_{name}.pkl\"), \"rb\") as f:\n",
    "            state = pickle.load(f)\n",
    "            agent.frame_idx = state[\"frame_idx\"]\n",
    "            agent.replay_buffer = state[\"replay_buffer\"]\n",
    "        print(f\"Resuming training from frame {agent.frame_idx}.\")\n",
    "    else:\n",
    "        print(\"No saved training state found. Starting training from scratch.\")\n",
    "    \n",
    "    os.makedirs(os.path.join(current_dir, \"weights\"), exist_ok=True)\n",
    "    rewards = agent.train(total_frames)\n",
    "    \n",
    "    # save model\n",
    "    with open(os.path.join(current_dir, \"weights\", f\"rainbow_dqn_state_{total_frames}.pkl\"), \"wb\") as f:\n",
    "        pickle.dump({\n",
    "            \"frame_idx\": agent.frame_idx,\n",
    "            \"replay_buffer\": agent.replay_buffer\n",
    "        }, f)\n",
    "    torch.save(agent.online_net.state_dict(), os.path.join(current_dir, \"weights\", f\"rainbow_dqn_weights_{total_frames}.pth\"))\"\"\"\n",
    "\n",
    "# Storage for all experiment results\n",
    "all_results = {}\n",
    "\n",
    "\"\"\"\n",
    "lrs       = [1e-5, 5e-5]\n",
    "multi_ss  = [3,    5]\n",
    "alphas    = [0.4,  0.6]\n",
    "\n",
    "\"\"\""
   ]
  },
  {
   "cell_type": "code",
   "execution_count": null,
   "id": "8baa0568-4501-48b0-a4eb-2a1b7f8d0cf6",
   "metadata": {},
   "outputs": [
    {
     "name": "stderr",
     "output_type": "stream",
     "text": [
      "/Users/cucuba/Library/Python/3.9/lib/python/site-packages/gym/envs/registration.py:505: UserWarning: \u001b[33mWARN: The environment MsPacman-v0 is out of date. You should consider upgrading to version `v5` with the environment ID `ALE/MsPacman-v5`.\u001b[0m\n",
      "  logger.warn(\n",
      "A.L.E: Arcade Learning Environment (version 0.7.5+db37282)\n",
      "[Powered by Stella]\n",
      "Training:   2%|▏         | 655/30000 [01:48<1:24:01,  5.82it/s, Episode Reward=60]"
     ]
    },
    {
     "name": "stdout",
     "output_type": "stream",
     "text": [
      "Frame: 654, Episode Reward: 60.0\n"
     ]
    },
    {
     "name": "stderr",
     "output_type": "stream",
     "text": [
      "Training:   4%|▍         | 1300/30000 [03:45<1:36:35,  4.95it/s, Episode Reward=60]"
     ]
    },
    {
     "name": "stdout",
     "output_type": "stream",
     "text": [
      "Frame: 1299, Episode Reward: 60.0\n"
     ]
    },
    {
     "name": "stderr",
     "output_type": "stream",
     "text": [
      "Training:   6%|▋         | 1932/30000 [05:47<1:39:15,  4.71it/s, Episode Reward=60]"
     ]
    },
    {
     "name": "stdout",
     "output_type": "stream",
     "text": [
      "Frame: 1932, Episode Reward: 60.0\n"
     ]
    },
    {
     "name": "stderr",
     "output_type": "stream",
     "text": [
      "Training:   9%|▊         | 2582/30000 [07:52<1:32:10,  4.96it/s, Episode Reward=60]"
     ]
    },
    {
     "name": "stdout",
     "output_type": "stream",
     "text": [
      "Frame: 2581, Episode Reward: 60.0\n"
     ]
    },
    {
     "name": "stderr",
     "output_type": "stream",
     "text": [
      "Training:  11%|█         | 3224/30000 [10:02<1:22:41,  5.40it/s, Episode Reward=60]"
     ]
    },
    {
     "name": "stdout",
     "output_type": "stream",
     "text": [
      "Frame: 3224, Episode Reward: 60.0\n"
     ]
    },
    {
     "name": "stderr",
     "output_type": "stream",
     "text": [
      "Training:  13%|█▎        | 3866/30000 [11:57<1:25:14,  5.11it/s, Episode Reward=60]"
     ]
    },
    {
     "name": "stdout",
     "output_type": "stream",
     "text": [
      "Frame: 3865, Episode Reward: 60.0\n"
     ]
    },
    {
     "name": "stderr",
     "output_type": "stream",
     "text": [
      "Training:  15%|█▌        | 4508/30000 [13:58<1:21:40,  5.20it/s, Episode Reward=60]"
     ]
    },
    {
     "name": "stdout",
     "output_type": "stream",
     "text": [
      "Frame: 4507, Episode Reward: 60.0\n"
     ]
    },
    {
     "name": "stderr",
     "output_type": "stream",
     "text": [
      "Training:  17%|█▋        | 5096/30000 [15:50<1:12:17,  5.74it/s, Episode Reward=110]"
     ]
    },
    {
     "name": "stdout",
     "output_type": "stream",
     "text": [
      "Frame: 5095, Episode Reward: 110.0\n"
     ]
    },
    {
     "name": "stderr",
     "output_type": "stream",
     "text": [
      "Training:  20%|█▉        | 5894/30000 [18:25<1:18:13,  5.14it/s, Episode Reward=180]"
     ]
    },
    {
     "name": "stdout",
     "output_type": "stream",
     "text": [
      "Frame: 5893, Episode Reward: 180.0\n"
     ]
    },
    {
     "name": "stderr",
     "output_type": "stream",
     "text": [
      "Training:  23%|██▎       | 6802/30000 [21:25<1:25:49,  4.50it/s, Episode Reward=380]"
     ]
    },
    {
     "name": "stdout",
     "output_type": "stream",
     "text": [
      "Frame: 6802, Episode Reward: 380.0\n"
     ]
    },
    {
     "name": "stderr",
     "output_type": "stream",
     "text": [
      "Training:  25%|██▍       | 7475/30000 [23:42<1:16:54,  4.88it/s, Episode Reward=160]"
     ]
    },
    {
     "name": "stdout",
     "output_type": "stream",
     "text": [
      "Frame: 7474, Episode Reward: 160.0\n"
     ]
    },
    {
     "name": "stderr",
     "output_type": "stream",
     "text": [
      "Training:  28%|██▊       | 8544/30000 [27:16<1:15:19,  4.75it/s, Episode Reward=180]"
     ]
    },
    {
     "name": "stdout",
     "output_type": "stream",
     "text": [
      "Frame: 8543, Episode Reward: 180.0\n"
     ]
    },
    {
     "name": "stderr",
     "output_type": "stream",
     "text": [
      "Training:  31%|███       | 9369/30000 [30:06<1:07:29,  5.10it/s, Episode Reward=230]"
     ]
    },
    {
     "name": "stdout",
     "output_type": "stream",
     "text": [
      "Frame: 9368, Episode Reward: 230.0\n"
     ]
    },
    {
     "name": "stderr",
     "output_type": "stream",
     "text": [
      "Training:  35%|███▍      | 10455/30000 [33:46<1:04:03,  5.08it/s, Episode Reward=180]"
     ]
    },
    {
     "name": "stdout",
     "output_type": "stream",
     "text": [
      "Frame: 10454, Episode Reward: 180.0\n"
     ]
    },
    {
     "name": "stderr",
     "output_type": "stream",
     "text": [
      "Training:  39%|███▊      | 11574/30000 [37:33<1:01:05,  5.03it/s, Episode Reward=180]"
     ]
    },
    {
     "name": "stdout",
     "output_type": "stream",
     "text": [
      "Frame: 11573, Episode Reward: 180.0\n"
     ]
    },
    {
     "name": "stderr",
     "output_type": "stream",
     "text": [
      "Training:  42%|████▏     | 12471/30000 [40:36<57:59,  5.04it/s, Episode Reward=180]  "
     ]
    },
    {
     "name": "stdout",
     "output_type": "stream",
     "text": [
      "Frame: 12471, Episode Reward: 180.0\n"
     ]
    },
    {
     "name": "stderr",
     "output_type": "stream",
     "text": [
      "Training:  45%|████▍     | 13370/30000 [43:44<57:42,  4.80it/s, Episode Reward=380]  "
     ]
    },
    {
     "name": "stdout",
     "output_type": "stream",
     "text": [
      "Frame: 13369, Episode Reward: 380.0\n"
     ]
    },
    {
     "name": "stderr",
     "output_type": "stream",
     "text": [
      "Training:  48%|████▊     | 14359/30000 [47:09<56:48,  4.59it/s, Episode Reward=180]  "
     ]
    },
    {
     "name": "stdout",
     "output_type": "stream",
     "text": [
      "Frame: 14359, Episode Reward: 180.0\n"
     ]
    },
    {
     "name": "stderr",
     "output_type": "stream",
     "text": [
      "Training:  52%|█████▏    | 15460/30000 [50:56<48:44,  4.97it/s, Episode Reward=180]"
     ]
    },
    {
     "name": "stdout",
     "output_type": "stream",
     "text": [
      "Frame: 15460, Episode Reward: 180.0\n"
     ]
    },
    {
     "name": "stderr",
     "output_type": "stream",
     "text": [
      "Training:  55%|█████▌    | 16546/30000 [54:43<46:14,  4.85it/s, Episode Reward=180]  "
     ]
    },
    {
     "name": "stdout",
     "output_type": "stream",
     "text": [
      "Frame: 16546, Episode Reward: 180.0\n"
     ]
    },
    {
     "name": "stderr",
     "output_type": "stream",
     "text": [
      "Training:  58%|█████▊    | 17441/30000 [57:49<44:24,  4.71it/s, Episode Reward=380]"
     ]
    },
    {
     "name": "stdout",
     "output_type": "stream",
     "text": [
      "Frame: 17441, Episode Reward: 380.0\n"
     ]
    },
    {
     "name": "stderr",
     "output_type": "stream",
     "text": [
      "Training:  61%|██████    | 18334/30000 [1:00:55<41:01,  4.74it/s, Episode Reward=380]"
     ]
    },
    {
     "name": "stdout",
     "output_type": "stream",
     "text": [
      "Frame: 18333, Episode Reward: 380.0\n"
     ]
    },
    {
     "name": "stderr",
     "output_type": "stream",
     "text": [
      "Training:  64%|██████▍   | 19218/30000 [1:03:59<38:02,  4.72it/s, Episode Reward=180]"
     ]
    },
    {
     "name": "stdout",
     "output_type": "stream",
     "text": [
      "Frame: 19218, Episode Reward: 180.0\n"
     ]
    },
    {
     "name": "stderr",
     "output_type": "stream",
     "text": [
      "Training:  67%|██████▋   | 20213/30000 [1:07:30<33:44,  4.84it/s, Episode Reward=380]"
     ]
    },
    {
     "name": "stdout",
     "output_type": "stream",
     "text": [
      "Frame: 20213, Episode Reward: 380.0\n"
     ]
    },
    {
     "name": "stderr",
     "output_type": "stream",
     "text": [
      "Training:  70%|███████   | 21047/30000 [1:10:24<30:24,  4.91it/s, Episode Reward=390]"
     ]
    },
    {
     "name": "stdout",
     "output_type": "stream",
     "text": [
      "Frame: 21047, Episode Reward: 390.0\n"
     ]
    },
    {
     "name": "stderr",
     "output_type": "stream",
     "text": [
      "Training:  73%|███████▎  | 21819/30000 [1:13:04<27:25,  4.97it/s, Episode Reward=400]"
     ]
    },
    {
     "name": "stdout",
     "output_type": "stream",
     "text": [
      "Frame: 21818, Episode Reward: 400.0\n"
     ]
    },
    {
     "name": "stderr",
     "output_type": "stream",
     "text": [
      "Training:  76%|███████▌  | 22792/30000 [1:16:27<25:22,  4.74it/s, Episode Reward=200]"
     ]
    },
    {
     "name": "stdout",
     "output_type": "stream",
     "text": [
      "Frame: 22792, Episode Reward: 200.0\n"
     ]
    },
    {
     "name": "stderr",
     "output_type": "stream",
     "text": [
      "Training:  79%|███████▉  | 23786/30000 [1:19:58<23:12,  4.46it/s, Episode Reward=200]"
     ]
    },
    {
     "name": "stdout",
     "output_type": "stream",
     "text": [
      "Frame: 23786, Episode Reward: 200.0\n"
     ]
    },
    {
     "name": "stderr",
     "output_type": "stream",
     "text": [
      "Training:  82%|████████▏ | 24689/30000 [1:23:07<18:12,  4.86it/s, Episode Reward=270]"
     ]
    },
    {
     "name": "stdout",
     "output_type": "stream",
     "text": [
      "Frame: 24689, Episode Reward: 270.0\n"
     ]
    },
    {
     "name": "stderr",
     "output_type": "stream",
     "text": [
      "Training:  85%|████████▍ | 25476/30000 [1:25:51<15:24,  4.89it/s, Episode Reward=450]"
     ]
    },
    {
     "name": "stdout",
     "output_type": "stream",
     "text": [
      "Frame: 25475, Episode Reward: 450.0\n"
     ]
    },
    {
     "name": "stderr",
     "output_type": "stream",
     "text": [
      "Training:  89%|████████▉ | 26753/30000 [1:30:17<11:31,  4.69it/s, Episode Reward=520]"
     ]
    },
    {
     "name": "stdout",
     "output_type": "stream",
     "text": [
      "Frame: 26753, Episode Reward: 520.0\n"
     ]
    },
    {
     "name": "stderr",
     "output_type": "stream",
     "text": [
      "Training:  92%|█████████▏| 27599/30000 [1:33:14<08:07,  4.93it/s, Episode Reward=520]"
     ]
    },
    {
     "name": "stdout",
     "output_type": "stream",
     "text": [
      "Frame: 27599, Episode Reward: 520.0\n"
     ]
    },
    {
     "name": "stderr",
     "output_type": "stream",
     "text": [
      "Training:  95%|█████████▍| 28430/30000 [1:36:07<05:25,  4.82it/s, Episode Reward=320]"
     ]
    },
    {
     "name": "stdout",
     "output_type": "stream",
     "text": [
      "Frame: 28429, Episode Reward: 320.0\n"
     ]
    },
    {
     "name": "stderr",
     "output_type": "stream",
     "text": [
      "Training:  98%|█████████▊| 29336/30000 [1:39:17<02:48,  3.94it/s, Episode Reward=560]"
     ]
    },
    {
     "name": "stdout",
     "output_type": "stream",
     "text": [
      "Frame: 29336, Episode Reward: 560.0\n"
     ]
    },
    {
     "name": "stderr",
     "output_type": "stream",
     "text": [
      "Training: 100%|██████████| 30000/30000 [1:41:38<00:00,  4.92it/s, Episode Reward=560]"
     ]
    },
    {
     "name": "stdout",
     "output_type": "stream",
     "text": [
      "▶Training finished!\n"
     ]
    },
    {
     "name": "stderr",
     "output_type": "stream",
     "text": [
      "\n"
     ]
    }
   ],
   "source": [
    "#%%\n",
    "\n",
    "# Experiment A: lr=1e-5, multi_step=3, alpha=0.4\n",
    "hparams_A = {\n",
    "    'learning_rate': 1e-5,\n",
    "    'gamma': 0.99,\n",
    "    'buffer_size': 100000,\n",
    "    'batch_size': 32,\n",
    "    'multi_step': 3,\n",
    "    'update_target_every': 1000,\n",
    "    'alpha': 0.4,\n",
    "    'beta_start': 0.4,\n",
    "    'beta_frames': 100000,\n",
    "    'total_frames': 30000\n",
    "}\n",
    "\n",
    "# Run and plot A\n",
    "rewards_A = run_experiment(hparams_A)\n",
    "all_results['A'] = (hparams_A, rewards_A)"
   ]
  },
  {
   "cell_type": "code",
   "execution_count": null,
   "id": "38b07c6e-6871-4f64-8f2d-0e17bb4ca603",
   "metadata": {},
   "outputs": [
    {
     "data": {
      "image/png": "[encoded data removed]",
      "text/plain": [
       "<Figure size 800x400 with 1 Axes>"
      ]
     },
     "metadata": {},
     "output_type": "display_data"
    },
    {
     "data": {
      "text/plain": [
       "'agent = RainbowDQNAgent(env, input_channels, num_actions,\\n                            num_atoms=51, v_min=-10, v_max=10,\\n                            learning_rate=1e-5, gamma=0.99,\\n                            buffer_size=100000, batch_size=32, multi_step=5,\\n                            update_target_every=1000, alpha=0.6,\\n                            beta_start=0.4, beta_frames=100000)\\n    \\ntotal_frames = 30000\\n\\nif __name__ == \"__main__\":\\n\\n    plt.figure(figsize=(8, 4))\\n    plt.plot(rewards)\\n    plt.xlabel(\"Episode\")\\n    plt.ylabel(\"Total Reward\")\\n    plt.title(\"Training Performance of Rainbow DQN on Ms. Pac-Man\")\\n    plt.savefig(os.path.join(current_dir, \"rainbow_dqn_training.png\"))\\n    plt.show()'"
      ]
     },
     "execution_count": 9,
     "metadata": {},
     "output_type": "execute_result"
    }
   ],
   "source": [
    "#%%\n",
    "\n",
    "plt.figure(figsize=(8, 4))\n",
    "plt.plot(rewards_A, label='A: lr=1e-5,ms=3,a=0.4')\n",
    "plt.xlabel('Episode')\n",
    "plt.ylabel('Total Reward')\n",
    "plt.title('Experiment A')\n",
    "plt.legend()\n",
    "plt.show()\n",
    "\n",
    "\"\"\"agent = RainbowDQNAgent(env, input_channels, num_actions,\n",
    "                            num_atoms=51, v_min=-10, v_max=10,\n",
    "                            learning_rate=1e-5, gamma=0.99,\n",
    "                            buffer_size=100000, batch_size=32, multi_step=5,\n",
    "                            update_target_every=1000, alpha=0.6,\n",
    "                            beta_start=0.4, beta_frames=100000)\n",
    "    \n",
    "total_frames = 30000\n",
    "\n",
    "if __name__ == \"__main__\":\n",
    "\n",
    "    plt.figure(figsize=(8, 4))\n",
    "    plt.plot(rewards)\n",
    "    plt.xlabel(\"Episode\")\n",
    "    plt.ylabel(\"Total Reward\")\n",
    "    plt.title(\"Training Performance of Rainbow DQN on Ms. Pac-Man\")\n",
    "    plt.savefig(os.path.join(current_dir, \"rainbow_dqn_training.png\"))\n",
    "    plt.show()\"\"\""
   ]
  },
  {
   "cell_type": "code",
   "execution_count": null,
   "id": "9f5e04fe-b4b5-40c4-8cf9-78a5c2a6cc53",
   "metadata": {},
   "outputs": [
    {
     "name": "stderr",
     "output_type": "stream",
     "text": [
      "/Users/cucuba/Library/Python/3.9/lib/python/site-packages/gym/envs/registration.py:505: UserWarning: \u001b[33mWARN: The environment MsPacman-v0 is out of date. You should consider upgrading to version `v5` with the environment ID `ALE/MsPacman-v5`.\u001b[0m\n",
      "  logger.warn(\n",
      "Training:   2%|▏         | 674/30000 [02:04<1:32:49,  5.27it/s, Episode Reward=90]"
     ]
    },
    {
     "name": "stdout",
     "output_type": "stream",
     "text": [
      "Frame: 674, Episode Reward: 90.0\n"
     ]
    },
    {
     "name": "stderr",
     "output_type": "stream",
     "text": [
      "Training:   4%|▎         | 1120/30000 [03:29<1:33:41,  5.14it/s, Episode Reward=150]"
     ]
    },
    {
     "name": "stdout",
     "output_type": "stream",
     "text": [
      "Frame: 1119, Episode Reward: 150.0\n"
     ]
    },
    {
     "name": "stderr",
     "output_type": "stream",
     "text": [
      "Training:   5%|▌         | 1624/30000 [05:06<1:27:43,  5.39it/s, Episode Reward=210]"
     ]
    },
    {
     "name": "stdout",
     "output_type": "stream",
     "text": [
      "Frame: 1623, Episode Reward: 210.0\n"
     ]
    },
    {
     "name": "stderr",
     "output_type": "stream",
     "text": [
      "Training:   7%|▋         | 2124/30000 [06:43<1:27:33,  5.31it/s, Episode Reward=210]"
     ]
    },
    {
     "name": "stdout",
     "output_type": "stream",
     "text": [
      "Frame: 2123, Episode Reward: 210.0\n"
     ]
    },
    {
     "name": "stderr",
     "output_type": "stream",
     "text": [
      "Training:   9%|▉         | 2641/30000 [08:22<1:33:03,  4.90it/s, Episode Reward=210]"
     ]
    },
    {
     "name": "stdout",
     "output_type": "stream",
     "text": [
      "Frame: 2640, Episode Reward: 210.0\n"
     ]
    },
    {
     "name": "stderr",
     "output_type": "stream",
     "text": [
      "Training:  10%|█         | 3144/30000 [09:59<1:21:50,  5.47it/s, Episode Reward=210]"
     ]
    },
    {
     "name": "stdout",
     "output_type": "stream",
     "text": [
      "Frame: 3143, Episode Reward: 210.0\n"
     ]
    },
    {
     "name": "stderr",
     "output_type": "stream",
     "text": [
      "Training:  12%|█▏        | 3641/30000 [11:37<1:28:57,  4.94it/s, Episode Reward=210]"
     ]
    },
    {
     "name": "stdout",
     "output_type": "stream",
     "text": [
      "Frame: 3640, Episode Reward: 210.0\n"
     ]
    },
    {
     "name": "stderr",
     "output_type": "stream",
     "text": [
      "Training:  14%|█▍        | 4141/30000 [13:14<1:27:52,  4.90it/s, Episode Reward=210]"
     ]
    },
    {
     "name": "stdout",
     "output_type": "stream",
     "text": [
      "Frame: 4141, Episode Reward: 210.0\n"
     ]
    },
    {
     "name": "stderr",
     "output_type": "stream",
     "text": [
      "Training:  16%|█▌        | 4699/30000 [15:01<1:19:50,  5.28it/s, Episode Reward=380]"
     ]
    },
    {
     "name": "stdout",
     "output_type": "stream",
     "text": [
      "Frame: 4698, Episode Reward: 380.0\n"
     ]
    },
    {
     "name": "stderr",
     "output_type": "stream",
     "text": [
      "Training:  18%|█▊        | 5440/30000 [17:25<1:16:48,  5.33it/s, Episode Reward=380]"
     ]
    },
    {
     "name": "stdout",
     "output_type": "stream",
     "text": [
      "Frame: 5439, Episode Reward: 380.0\n"
     ]
    },
    {
     "name": "stderr",
     "output_type": "stream",
     "text": [
      "Training:  21%|██        | 6171/30000 [19:44<1:14:36,  5.32it/s, Episode Reward=300]"
     ]
    },
    {
     "name": "stdout",
     "output_type": "stream",
     "text": [
      "Frame: 6171, Episode Reward: 300.0\n"
     ]
    },
    {
     "name": "stderr",
     "output_type": "stream",
     "text": [
      "Training:  23%|██▎       | 6903/30000 [22:03<1:09:00,  5.58it/s, Episode Reward=300]"
     ]
    },
    {
     "name": "stdout",
     "output_type": "stream",
     "text": [
      "Frame: 6903, Episode Reward: 300.0\n"
     ]
    },
    {
     "name": "stderr",
     "output_type": "stream",
     "text": [
      "Training:  24%|██▍       | 7301/30000 [23:20<1:09:59,  5.40it/s, Episode Reward=250]"
     ]
    },
    {
     "name": "stdout",
     "output_type": "stream",
     "text": [
      "Frame: 7300, Episode Reward: 250.0\n"
     ]
    },
    {
     "name": "stderr",
     "output_type": "stream",
     "text": [
      "Training:  27%|██▋       | 8010/30000 [25:35<1:13:39,  4.98it/s, Episode Reward=300]"
     ]
    },
    {
     "name": "stdout",
     "output_type": "stream",
     "text": [
      "Frame: 8010, Episode Reward: 300.0\n"
     ]
    },
    {
     "name": "stderr",
     "output_type": "stream",
     "text": [
      "Training:  29%|██▉       | 8734/30000 [27:57<1:07:18,  5.27it/s, Episode Reward=300]"
     ]
    },
    {
     "name": "stdout",
     "output_type": "stream",
     "text": [
      "Frame: 8733, Episode Reward: 300.0\n"
     ]
    },
    {
     "name": "stderr",
     "output_type": "stream",
     "text": [
      "Training:  31%|███       | 9250/30000 [29:36<1:05:10,  5.31it/s, Episode Reward=380]"
     ]
    },
    {
     "name": "stdout",
     "output_type": "stream",
     "text": [
      "Frame: 9250, Episode Reward: 380.0\n"
     ]
    },
    {
     "name": "stderr",
     "output_type": "stream",
     "text": [
      "Training:  33%|███▎      | 9954/30000 [31:50<1:03:09,  5.29it/s, Episode Reward=300]"
     ]
    },
    {
     "name": "stdout",
     "output_type": "stream",
     "text": [
      "Frame: 9953, Episode Reward: 300.0\n"
     ]
    },
    {
     "name": "stderr",
     "output_type": "stream",
     "text": [
      "Training:  36%|███▌      | 10696/30000 [34:11<1:02:17,  5.17it/s, Episode Reward=300]"
     ]
    },
    {
     "name": "stdout",
     "output_type": "stream",
     "text": [
      "Frame: 10695, Episode Reward: 300.0\n"
     ]
    },
    {
     "name": "stderr",
     "output_type": "stream",
     "text": [
      "Training:  38%|███▊      | 11406/30000 [36:26<55:01,  5.63it/s, Episode Reward=300]  "
     ]
    },
    {
     "name": "stdout",
     "output_type": "stream",
     "text": [
      "Frame: 11405, Episode Reward: 300.0\n"
     ]
    },
    {
     "name": "stderr",
     "output_type": "stream",
     "text": [
      "Training:  40%|███▉      | 11948/30000 [38:09<53:47,  5.59it/s, Episode Reward=300]  "
     ]
    },
    {
     "name": "stdout",
     "output_type": "stream",
     "text": [
      "Frame: 11947, Episode Reward: 300.0\n"
     ]
    },
    {
     "name": "stderr",
     "output_type": "stream",
     "text": [
      "Training:  42%|████▏     | 12509/30000 [39:54<52:28,  5.56it/s, Episode Reward=300]  "
     ]
    },
    {
     "name": "stdout",
     "output_type": "stream",
     "text": [
      "Frame: 12508, Episode Reward: 300.0\n"
     ]
    },
    {
     "name": "stderr",
     "output_type": "stream",
     "text": [
      "Training:  44%|████▎     | 13058/30000 [41:42<49:54,  5.66it/s, Episode Reward=300]  "
     ]
    },
    {
     "name": "stdout",
     "output_type": "stream",
     "text": [
      "Frame: 13058, Episode Reward: 300.0\n"
     ]
    },
    {
     "name": "stderr",
     "output_type": "stream",
     "text": [
      "Training:  45%|████▌     | 13626/30000 [43:30<50:07,  5.44it/s, Episode Reward=300]  "
     ]
    },
    {
     "name": "stdout",
     "output_type": "stream",
     "text": [
      "Frame: 13625, Episode Reward: 300.0\n"
     ]
    },
    {
     "name": "stderr",
     "output_type": "stream",
     "text": [
      "Training:  48%|████▊     | 14311/30000 [45:39<48:47,  5.36it/s, Episode Reward=410]"
     ]
    },
    {
     "name": "stdout",
     "output_type": "stream",
     "text": [
      "Frame: 14311, Episode Reward: 410.0\n"
     ]
    },
    {
     "name": "stderr",
     "output_type": "stream",
     "text": [
      "Training:  50%|████▉     | 14947/30000 [47:39<48:36,  5.16it/s, Episode Reward=340]"
     ]
    },
    {
     "name": "stdout",
     "output_type": "stream",
     "text": [
      "Frame: 14946, Episode Reward: 340.0\n"
     ]
    },
    {
     "name": "stderr",
     "output_type": "stream",
     "text": [
      "Training:  52%|█████▏    | 15720/30000 [50:06<43:33,  5.46it/s, Episode Reward=410]"
     ]
    },
    {
     "name": "stdout",
     "output_type": "stream",
     "text": [
      "Frame: 15720, Episode Reward: 410.0\n"
     ]
    },
    {
     "name": "stderr",
     "output_type": "stream",
     "text": [
      "Training:  55%|█████▍    | 16396/30000 [52:15<41:50,  5.42it/s, Episode Reward=410]"
     ]
    },
    {
     "name": "stdout",
     "output_type": "stream",
     "text": [
      "Frame: 16395, Episode Reward: 410.0\n"
     ]
    },
    {
     "name": "stderr",
     "output_type": "stream",
     "text": [
      "Training:  58%|█████▊    | 17261/30000 [55:02<39:42,  5.35it/s, Episode Reward=350]"
     ]
    },
    {
     "name": "stdout",
     "output_type": "stream",
     "text": [
      "Frame: 17260, Episode Reward: 350.0\n"
     ]
    },
    {
     "name": "stderr",
     "output_type": "stream",
     "text": [
      "Training:  61%|██████    | 18245/30000 [58:07<37:42,  5.20it/s, Episode Reward=610]"
     ]
    },
    {
     "name": "stdout",
     "output_type": "stream",
     "text": [
      "Frame: 18245, Episode Reward: 610.0\n"
     ]
    },
    {
     "name": "stderr",
     "output_type": "stream",
     "text": [
      "Training:  63%|██████▎   | 18928/30000 [1:00:18<36:10,  5.10it/s, Episode Reward=380]"
     ]
    },
    {
     "name": "stdout",
     "output_type": "stream",
     "text": [
      "Frame: 18928, Episode Reward: 380.0\n"
     ]
    },
    {
     "name": "stderr",
     "output_type": "stream",
     "text": [
      "Training:  65%|██████▌   | 19606/30000 [1:02:26<33:30,  5.17it/s, Episode Reward=410]"
     ]
    },
    {
     "name": "stdout",
     "output_type": "stream",
     "text": [
      "Frame: 19606, Episode Reward: 410.0\n"
     ]
    },
    {
     "name": "stderr",
     "output_type": "stream",
     "text": [
      "Training:  68%|██████▊   | 20404/30000 [1:04:56<30:45,  5.20it/s, Episode Reward=380]"
     ]
    },
    {
     "name": "stdout",
     "output_type": "stream",
     "text": [
      "Frame: 20403, Episode Reward: 380.0\n"
     ]
    },
    {
     "name": "stderr",
     "output_type": "stream",
     "text": [
      "Training:  71%|███████   | 21227/30000 [1:07:34<27:39,  5.29it/s, Episode Reward=580]"
     ]
    },
    {
     "name": "stdout",
     "output_type": "stream",
     "text": [
      "Frame: 21226, Episode Reward: 580.0\n"
     ]
    },
    {
     "name": "stderr",
     "output_type": "stream",
     "text": [
      "Training:  74%|███████▍  | 22174/30000 [1:10:32<24:57,  5.23it/s, Episode Reward=410]"
     ]
    },
    {
     "name": "stdout",
     "output_type": "stream",
     "text": [
      "Frame: 22173, Episode Reward: 410.0\n"
     ]
    },
    {
     "name": "stderr",
     "output_type": "stream",
     "text": [
      "Training:  76%|███████▋  | 22891/30000 [1:12:46<21:01,  5.63it/s, Episode Reward=500]"
     ]
    },
    {
     "name": "stdout",
     "output_type": "stream",
     "text": [
      "Frame: 22890, Episode Reward: 500.0\n"
     ]
    },
    {
     "name": "stderr",
     "output_type": "stream",
     "text": [
      "Training:  78%|███████▊  | 23467/30000 [1:14:35<21:19,  5.10it/s, Episode Reward=460]"
     ]
    },
    {
     "name": "stdout",
     "output_type": "stream",
     "text": [
      "Frame: 23467, Episode Reward: 460.0\n"
     ]
    },
    {
     "name": "stderr",
     "output_type": "stream",
     "text": [
      "Training:  81%|████████  | 24171/30000 [1:16:49<19:10,  5.07it/s, Episode Reward=500]"
     ]
    },
    {
     "name": "stdout",
     "output_type": "stream",
     "text": [
      "Frame: 24171, Episode Reward: 500.0\n"
     ]
    },
    {
     "name": "stderr",
     "output_type": "stream",
     "text": [
      "Training:  82%|████████▏ | 24700/30000 [1:18:29<16:05,  5.49it/s, Episode Reward=380]"
     ]
    },
    {
     "name": "stdout",
     "output_type": "stream",
     "text": [
      "Frame: 24699, Episode Reward: 380.0\n"
     ]
    },
    {
     "name": "stderr",
     "output_type": "stream",
     "text": [
      "Training:  84%|████████▍ | 25214/30000 [1:20:05<14:52,  5.36it/s, Episode Reward=380]"
     ]
    },
    {
     "name": "stdout",
     "output_type": "stream",
     "text": [
      "Frame: 25213, Episode Reward: 380.0\n"
     ]
    },
    {
     "name": "stderr",
     "output_type": "stream",
     "text": [
      "Training:  86%|████████▋ | 25906/30000 [1:22:18<12:16,  5.56it/s, Episode Reward=450]"
     ]
    },
    {
     "name": "stdout",
     "output_type": "stream",
     "text": [
      "Frame: 25906, Episode Reward: 450.0\n"
     ]
    },
    {
     "name": "stderr",
     "output_type": "stream",
     "text": [
      "Training:  89%|████████▊ | 26615/30000 [1:24:32<10:35,  5.33it/s, Episode Reward=430]"
     ]
    },
    {
     "name": "stdout",
     "output_type": "stream",
     "text": [
      "Frame: 26614, Episode Reward: 430.0\n"
     ]
    },
    {
     "name": "stderr",
     "output_type": "stream",
     "text": [
      "Training:  91%|█████████ | 27316/30000 [1:26:45<08:06,  5.51it/s, Episode Reward=410]"
     ]
    },
    {
     "name": "stdout",
     "output_type": "stream",
     "text": [
      "Frame: 27315, Episode Reward: 410.0\n"
     ]
    },
    {
     "name": "stderr",
     "output_type": "stream",
     "text": [
      "Training:  94%|█████████▍| 28180/30000 [1:29:28<05:31,  5.49it/s, Episode Reward=480]"
     ]
    },
    {
     "name": "stdout",
     "output_type": "stream",
     "text": [
      "Frame: 28179, Episode Reward: 480.0\n"
     ]
    },
    {
     "name": "stderr",
     "output_type": "stream",
     "text": [
      "Training:  97%|█████████▋| 28996/30000 [1:32:01<03:11,  5.23it/s, Episode Reward=510]"
     ]
    },
    {
     "name": "stdout",
     "output_type": "stream",
     "text": [
      "Frame: 28995, Episode Reward: 510.0\n"
     ]
    },
    {
     "name": "stderr",
     "output_type": "stream",
     "text": [
      "Training:  98%|█████████▊| 29524/30000 [1:33:42<01:24,  5.60it/s, Episode Reward=380]"
     ]
    },
    {
     "name": "stdout",
     "output_type": "stream",
     "text": [
      "Frame: 29524, Episode Reward: 380.0\n"
     ]
    },
    {
     "name": "stderr",
     "output_type": "stream",
     "text": [
      "Training: 100%|██████████| 30000/30000 [1:35:11<00:00,  5.25it/s, Episode Reward=380]\n"
     ]
    },
    {
     "name": "stdout",
     "output_type": "stream",
     "text": [
      "▶Training finished!\n"
     ]
    }
   ],
   "source": [
    "#%%\n",
    "\n",
    "# Experiment B: lr=1e-5, multi_step=3, alpha=0.6\n",
    "hparams_B = hparams_A.copy()\n",
    "hparams_B['alpha'] = 0.6\n",
    "\n",
    "rewards_B = run_experiment(hparams_B)\n",
    "all_results['B'] = (hparams_B, rewards_B)"
   ]
  },
  {
   "cell_type": "code",
   "execution_count": null,
   "id": "9cfb4dd6-143b-4fa9-a9be-ca44f37541c5",
   "metadata": {},
   "outputs": [
    {
     "data": {
      "image/png": "[encoded data removed]",
      "text/plain": [
       "<Figure size 800x400 with 1 Axes>"
      ]
     },
     "metadata": {},
     "output_type": "display_data"
    }
   ],
   "source": [
    "#%%\n",
    "\n",
    "plt.figure(figsize=(8,4))\n",
    "plt.plot(rewards_B, label='B: lr=1e-5, ms=3, α=0.6')\n",
    "plt.xlabel('Episode'); plt.ylabel('Total Reward')\n",
    "plt.title('Experiment B')\n",
    "plt.legend()\n",
    "plt.show()"
   ]
  },
  {
   "cell_type": "code",
   "execution_count": null,
   "id": "16181d7d-2691-4adf-ab62-3ea538126e2a",
   "metadata": {},
   "outputs": [
    {
     "name": "stderr",
     "output_type": "stream",
     "text": [
      "Training:   2%|▏         | 749/30000 [02:12<1:24:00,  5.80it/s, Episode Reward=120]"
     ]
    },
    {
     "name": "stdout",
     "output_type": "stream",
     "text": [
      "Frame: 749, Episode Reward: 120.0\n"
     ]
    },
    {
     "name": "stderr",
     "output_type": "stream",
     "text": [
      "Training:   5%|▍         | 1459/30000 [04:27<1:28:47,  5.36it/s, Episode Reward=120]"
     ]
    },
    {
     "name": "stdout",
     "output_type": "stream",
     "text": [
      "Frame: 1458, Episode Reward: 120.0\n"
     ]
    },
    {
     "name": "stderr",
     "output_type": "stream",
     "text": [
      "Training:   7%|▋         | 2139/30000 [06:34<1:24:17,  5.51it/s, Episode Reward=120]"
     ]
    },
    {
     "name": "stdout",
     "output_type": "stream",
     "text": [
      "Frame: 2138, Episode Reward: 120.0\n"
     ]
    },
    {
     "name": "stderr",
     "output_type": "stream",
     "text": [
      "Training:   9%|▊         | 2609/30000 [08:01<1:20:23,  5.68it/s, Episode Reward=80] "
     ]
    },
    {
     "name": "stdout",
     "output_type": "stream",
     "text": [
      "Frame: 2608, Episode Reward: 80.0\n"
     ]
    },
    {
     "name": "stderr",
     "output_type": "stream",
     "text": [
      "Training:  10%|█         | 3128/30000 [09:38<1:29:04,  5.03it/s, Episode Reward=90]"
     ]
    },
    {
     "name": "stdout",
     "output_type": "stream",
     "text": [
      "Frame: 3127, Episode Reward: 90.0\n"
     ]
    },
    {
     "name": "stderr",
     "output_type": "stream",
     "text": [
      "Training:  13%|█▎        | 3759/30000 [11:35<1:17:47,  5.62it/s, Episode Reward=120]"
     ]
    },
    {
     "name": "stdout",
     "output_type": "stream",
     "text": [
      "Frame: 3758, Episode Reward: 120.0\n"
     ]
    },
    {
     "name": "stderr",
     "output_type": "stream",
     "text": [
      "Training:  15%|█▍        | 4456/30000 [13:46<1:14:01,  5.75it/s, Episode Reward=120]"
     ]
    },
    {
     "name": "stdout",
     "output_type": "stream",
     "text": [
      "Frame: 4455, Episode Reward: 120.0\n"
     ]
    },
    {
     "name": "stderr",
     "output_type": "stream",
     "text": [
      "Training:  17%|█▋        | 4987/30000 [15:25<1:18:41,  5.30it/s, Episode Reward=90] "
     ]
    },
    {
     "name": "stdout",
     "output_type": "stream",
     "text": [
      "Frame: 4987, Episode Reward: 90.0\n"
     ]
    },
    {
     "name": "stderr",
     "output_type": "stream",
     "text": [
      "Training:  18%|█▊        | 5548/30000 [17:12<1:16:47,  5.31it/s, Episode Reward=120]"
     ]
    },
    {
     "name": "stdout",
     "output_type": "stream",
     "text": [
      "Frame: 5547, Episode Reward: 120.0\n"
     ]
    },
    {
     "name": "stderr",
     "output_type": "stream",
     "text": [
      "Training:  20%|██        | 6133/30000 [18:57<1:14:00,  5.37it/s, Episode Reward=120]"
     ]
    },
    {
     "name": "stdout",
     "output_type": "stream",
     "text": [
      "Frame: 6132, Episode Reward: 120.0\n"
     ]
    },
    {
     "name": "stderr",
     "output_type": "stream",
     "text": [
      "Training:  22%|██▏       | 6664/30000 [20:32<1:08:41,  5.66it/s, Episode Reward=120]"
     ]
    },
    {
     "name": "stdout",
     "output_type": "stream",
     "text": [
      "Frame: 6663, Episode Reward: 120.0\n"
     ]
    },
    {
     "name": "stderr",
     "output_type": "stream",
     "text": [
      "Training:  24%|██▍       | 7302/30000 [22:27<1:05:16,  5.80it/s, Episode Reward=120]"
     ]
    },
    {
     "name": "stdout",
     "output_type": "stream",
     "text": [
      "Frame: 7301, Episode Reward: 120.0\n"
     ]
    },
    {
     "name": "stderr",
     "output_type": "stream",
     "text": [
      "Training:  26%|██▋       | 7938/30000 [24:22<1:06:26,  5.53it/s, Episode Reward=90] "
     ]
    },
    {
     "name": "stdout",
     "output_type": "stream",
     "text": [
      "Frame: 7937, Episode Reward: 90.0\n"
     ]
    },
    {
     "name": "stderr",
     "output_type": "stream",
     "text": [
      "Training:  28%|██▊       | 8427/30000 [25:50<1:03:09,  5.69it/s, Episode Reward=120]"
     ]
    },
    {
     "name": "stdout",
     "output_type": "stream",
     "text": [
      "Frame: 8426, Episode Reward: 120.0\n"
     ]
    },
    {
     "name": "stderr",
     "output_type": "stream",
     "text": [
      "Training:  30%|███       | 9144/30000 [28:01<1:06:40,  5.21it/s, Episode Reward=120]"
     ]
    },
    {
     "name": "stdout",
     "output_type": "stream",
     "text": [
      "Frame: 9143, Episode Reward: 120.0\n"
     ]
    },
    {
     "name": "stderr",
     "output_type": "stream",
     "text": [
      "Training:  32%|███▏      | 9740/30000 [29:48<1:04:30,  5.23it/s, Episode Reward=120]"
     ]
    },
    {
     "name": "stdout",
     "output_type": "stream",
     "text": [
      "Frame: 9739, Episode Reward: 120.0\n"
     ]
    },
    {
     "name": "stderr",
     "output_type": "stream",
     "text": [
      "Training:  35%|███▌      | 10500/30000 [32:04<55:31,  5.85it/s, Episode Reward=90]   "
     ]
    },
    {
     "name": "stdout",
     "output_type": "stream",
     "text": [
      "Frame: 10499, Episode Reward: 90.0\n"
     ]
    },
    {
     "name": "stderr",
     "output_type": "stream",
     "text": [
      "Training:  37%|███▋      | 11181/30000 [34:09<58:02,  5.40it/s, Episode Reward=170] "
     ]
    },
    {
     "name": "stdout",
     "output_type": "stream",
     "text": [
      "Frame: 11180, Episode Reward: 170.0\n"
     ]
    },
    {
     "name": "stderr",
     "output_type": "stream",
     "text": [
      "Training:  40%|███▉      | 11882/30000 [36:16<51:57,  5.81it/s, Episode Reward=350]  "
     ]
    },
    {
     "name": "stdout",
     "output_type": "stream",
     "text": [
      "Frame: 11881, Episode Reward: 350.0\n"
     ]
    },
    {
     "name": "stderr",
     "output_type": "stream",
     "text": [
      "Training:  41%|████      | 12357/30000 [37:41<54:47,  5.37it/s, Episode Reward=120]  "
     ]
    },
    {
     "name": "stdout",
     "output_type": "stream",
     "text": [
      "Frame: 12356, Episode Reward: 120.0\n"
     ]
    },
    {
     "name": "stderr",
     "output_type": "stream",
     "text": [
      "Training:  43%|████▎     | 12883/30000 [39:15<53:54,  5.29it/s, Episode Reward=170]"
     ]
    },
    {
     "name": "stdout",
     "output_type": "stream",
     "text": [
      "Frame: 12882, Episode Reward: 170.0\n"
     ]
    },
    {
     "name": "stderr",
     "output_type": "stream",
     "text": [
      "Training:  45%|████▌     | 13629/30000 [41:29<45:08,  6.04it/s, Episode Reward=170]  "
     ]
    },
    {
     "name": "stdout",
     "output_type": "stream",
     "text": [
      "Frame: 13628, Episode Reward: 170.0\n"
     ]
    },
    {
     "name": "stderr",
     "output_type": "stream",
     "text": [
      "Training:  48%|████▊     | 14264/30000 [43:26<49:51,  5.26it/s, Episode Reward=160]  "
     ]
    },
    {
     "name": "stdout",
     "output_type": "stream",
     "text": [
      "Frame: 14263, Episode Reward: 160.0\n"
     ]
    },
    {
     "name": "stderr",
     "output_type": "stream",
     "text": [
      "Training:  50%|████▉     | 14950/30000 [45:30<44:22,  5.65it/s, Episode Reward=350]"
     ]
    },
    {
     "name": "stdout",
     "output_type": "stream",
     "text": [
      "Frame: 14949, Episode Reward: 350.0\n"
     ]
    },
    {
     "name": "stderr",
     "output_type": "stream",
     "text": [
      "Training:  53%|█████▎    | 15777/30000 [47:59<43:35,  5.44it/s, Episode Reward=580]"
     ]
    },
    {
     "name": "stdout",
     "output_type": "stream",
     "text": [
      "Frame: 15776, Episode Reward: 580.0\n"
     ]
    },
    {
     "name": "stderr",
     "output_type": "stream",
     "text": [
      "Training:  54%|█████▍    | 16255/30000 [49:25<41:25,  5.53it/s, Episode Reward=120]"
     ]
    },
    {
     "name": "stdout",
     "output_type": "stream",
     "text": [
      "Frame: 16254, Episode Reward: 120.0\n"
     ]
    },
    {
     "name": "stderr",
     "output_type": "stream",
     "text": [
      "Training:  56%|█████▋    | 16931/30000 [51:26<41:42,  5.22it/s, Episode Reward=340]"
     ]
    },
    {
     "name": "stdout",
     "output_type": "stream",
     "text": [
      "Frame: 16930, Episode Reward: 340.0\n"
     ]
    },
    {
     "name": "stderr",
     "output_type": "stream",
     "text": [
      "Training:  58%|█████▊    | 17535/30000 [53:18<38:24,  5.41it/s, Episode Reward=120]"
     ]
    },
    {
     "name": "stdout",
     "output_type": "stream",
     "text": [
      "Frame: 17534, Episode Reward: 120.0\n"
     ]
    },
    {
     "name": "stderr",
     "output_type": "stream",
     "text": [
      "Training:  61%|██████    | 18207/30000 [55:18<34:24,  5.71it/s, Episode Reward=310]"
     ]
    },
    {
     "name": "stdout",
     "output_type": "stream",
     "text": [
      "Frame: 18206, Episode Reward: 310.0\n"
     ]
    },
    {
     "name": "stderr",
     "output_type": "stream",
     "text": [
      "Training:  63%|██████▎   | 18887/30000 [57:21<33:49,  5.48it/s, Episode Reward=170]"
     ]
    },
    {
     "name": "stdout",
     "output_type": "stream",
     "text": [
      "Frame: 18886, Episode Reward: 170.0\n"
     ]
    },
    {
     "name": "stderr",
     "output_type": "stream",
     "text": [
      "Training:  65%|██████▌   | 19621/30000 [59:33<30:32,  5.66it/s, Episode Reward=220]"
     ]
    },
    {
     "name": "stdout",
     "output_type": "stream",
     "text": [
      "Frame: 19620, Episode Reward: 220.0\n"
     ]
    },
    {
     "name": "stderr",
     "output_type": "stream",
     "text": [
      "Training:  68%|██████▊   | 20266/30000 [1:01:33<30:57,  5.24it/s, Episode Reward=120]"
     ]
    },
    {
     "name": "stdout",
     "output_type": "stream",
     "text": [
      "Frame: 20265, Episode Reward: 120.0\n"
     ]
    },
    {
     "name": "stderr",
     "output_type": "stream",
     "text": [
      "Training:  70%|███████   | 21024/30000 [1:03:48<27:13,  5.49it/s, Episode Reward=340]"
     ]
    },
    {
     "name": "stdout",
     "output_type": "stream",
     "text": [
      "Frame: 21023, Episode Reward: 340.0\n"
     ]
    },
    {
     "name": "stderr",
     "output_type": "stream",
     "text": [
      "Training:  72%|███████▏  | 21482/30000 [1:05:10<26:41,  5.32it/s, Episode Reward=120]"
     ]
    },
    {
     "name": "stdout",
     "output_type": "stream",
     "text": [
      "Frame: 21481, Episode Reward: 120.0\n"
     ]
    },
    {
     "name": "stderr",
     "output_type": "stream",
     "text": [
      "Training:  74%|███████▍  | 22230/30000 [1:07:25<24:14,  5.34it/s, Episode Reward=260]"
     ]
    },
    {
     "name": "stdout",
     "output_type": "stream",
     "text": [
      "Frame: 22229, Episode Reward: 260.0\n"
     ]
    },
    {
     "name": "stderr",
     "output_type": "stream",
     "text": [
      "Training:  77%|███████▋  | 23122/30000 [1:10:08<20:05,  5.71it/s, Episode Reward=620]"
     ]
    },
    {
     "name": "stdout",
     "output_type": "stream",
     "text": [
      "Frame: 23121, Episode Reward: 620.0\n"
     ]
    },
    {
     "name": "stderr",
     "output_type": "stream",
     "text": [
      "Training:  80%|███████▉  | 23871/30000 [1:12:24<17:17,  5.91it/s, Episode Reward=330]"
     ]
    },
    {
     "name": "stdout",
     "output_type": "stream",
     "text": [
      "Frame: 23870, Episode Reward: 330.0\n"
     ]
    },
    {
     "name": "stderr",
     "output_type": "stream",
     "text": [
      "Training:  83%|████████▎ | 24760/30000 [1:15:04<15:59,  5.46it/s, Episode Reward=660]"
     ]
    },
    {
     "name": "stdout",
     "output_type": "stream",
     "text": [
      "Frame: 24759, Episode Reward: 660.0\n"
     ]
    },
    {
     "name": "stderr",
     "output_type": "stream",
     "text": [
      "Training:  86%|████████▌ | 25863/30000 [1:18:23<12:55,  5.34it/s, Episode Reward=320]"
     ]
    },
    {
     "name": "stdout",
     "output_type": "stream",
     "text": [
      "Frame: 25862, Episode Reward: 320.0\n"
     ]
    },
    {
     "name": "stderr",
     "output_type": "stream",
     "text": [
      "Training:  89%|████████▊ | 26603/30000 [1:20:35<10:04,  5.62it/s, Episode Reward=350]"
     ]
    },
    {
     "name": "stdout",
     "output_type": "stream",
     "text": [
      "Frame: 26602, Episode Reward: 350.0\n"
     ]
    },
    {
     "name": "stderr",
     "output_type": "stream",
     "text": [
      "Training:  91%|█████████ | 27233/30000 [1:22:29<10:17,  4.48it/s, Episode Reward=220]"
     ]
    },
    {
     "name": "stdout",
     "output_type": "stream",
     "text": [
      "Frame: 27233, Episode Reward: 220.0\n"
     ]
    },
    {
     "name": "stderr",
     "output_type": "stream",
     "text": [
      "Training:  93%|█████████▎| 28011/30000 [1:24:49<06:07,  5.41it/s, Episode Reward=380]"
     ]
    },
    {
     "name": "stdout",
     "output_type": "stream",
     "text": [
      "Frame: 28010, Episode Reward: 380.0\n"
     ]
    },
    {
     "name": "stderr",
     "output_type": "stream",
     "text": [
      "Training:  96%|█████████▌| 28730/30000 [1:26:58<03:47,  5.59it/s, Episode Reward=220]"
     ]
    },
    {
     "name": "stdout",
     "output_type": "stream",
     "text": [
      "Frame: 28729, Episode Reward: 220.0\n"
     ]
    },
    {
     "name": "stderr",
     "output_type": "stream",
     "text": [
      "Training:  99%|█████████▉| 29684/30000 [1:29:49<00:53,  5.86it/s, Episode Reward=390]"
     ]
    },
    {
     "name": "stdout",
     "output_type": "stream",
     "text": [
      "Frame: 29683, Episode Reward: 390.0\n"
     ]
    },
    {
     "name": "stderr",
     "output_type": "stream",
     "text": [
      "Training: 100%|██████████| 30000/30000 [1:30:45<00:00,  5.51it/s, Episode Reward=390]\n"
     ]
    },
    {
     "name": "stdout",
     "output_type": "stream",
     "text": [
      "▶Training finished!\n"
     ]
    }
   ],
   "source": [
    "#%%\n",
    "\n",
    "# Experiment C: lr=1e-5, multi_step=5, alpha=0.4\n",
    "hparams_C = hparams_A.copy()\n",
    "hparams_C['multi_step'] = 5\n",
    "\n",
    "rewards_C = run_experiment(hparams_C)\n",
    "all_results['C'] = (hparams_C, rewards_C)"
   ]
  },
  {
   "cell_type": "code",
   "execution_count": null,
   "id": "8207f664-0fc8-43a2-bb73-44309fd1db7d",
   "metadata": {},
   "outputs": [
    {
     "data": {
      "image/png": "[encoded data removed]",
      "text/plain": [
       "<Figure size 800x400 with 1 Axes>"
      ]
     },
     "metadata": {},
     "output_type": "display_data"
    }
   ],
   "source": [
    "#%%\n",
    "\n",
    "plt.figure(figsize=(8,4))\n",
    "plt.plot(rewards_C, label='C: lr=1e-5, ms=5, α=0.4')\n",
    "plt.xlabel('Episode'); plt.ylabel('Total Reward')\n",
    "plt.title('Experiment C')\n",
    "plt.legend()\n",
    "plt.show()"
   ]
  },
  {
   "cell_type": "code",
   "execution_count": null,
   "id": "1a5b3d4f-0b6a-4901-ba70-1c2e351c7b15",
   "metadata": {},
   "outputs": [
    {
     "name": "stderr",
     "output_type": "stream",
     "text": [
      "Training:   2%|▏         | 690/30000 [02:01<1:28:13,  5.54it/s, Episode Reward=120]"
     ]
    },
    {
     "name": "stdout",
     "output_type": "stream",
     "text": [
      "Frame: 689, Episode Reward: 120.0\n"
     ]
    },
    {
     "name": "stderr",
     "output_type": "stream",
     "text": [
      "Training:   5%|▍         | 1435/30000 [04:18<1:30:15,  5.27it/s, Episode Reward=400]"
     ]
    },
    {
     "name": "stdout",
     "output_type": "stream",
     "text": [
      "Frame: 1434, Episode Reward: 400.0\n"
     ]
    },
    {
     "name": "stderr",
     "output_type": "stream",
     "text": [
      "Training:   7%|▋         | 2142/30000 [06:30<1:22:06,  5.65it/s, Episode Reward=70] "
     ]
    },
    {
     "name": "stdout",
     "output_type": "stream",
     "text": [
      "Frame: 2141, Episode Reward: 70.0\n"
     ]
    },
    {
     "name": "stderr",
     "output_type": "stream",
     "text": [
      "Training:  11%|█         | 3172/30000 [09:44<1:19:28,  5.63it/s, Episode Reward=840]"
     ]
    },
    {
     "name": "stdout",
     "output_type": "stream",
     "text": [
      "Frame: 3172, Episode Reward: 840.0\n"
     ]
    },
    {
     "name": "stderr",
     "output_type": "stream",
     "text": [
      "Training:  13%|█▎        | 4024/30000 [12:22<1:18:37,  5.51it/s, Episode Reward=240]"
     ]
    },
    {
     "name": "stdout",
     "output_type": "stream",
     "text": [
      "Frame: 4024, Episode Reward: 240.0\n"
     ]
    },
    {
     "name": "stderr",
     "output_type": "stream",
     "text": [
      "Training:  16%|█▌        | 4728/30000 [14:34<1:18:23,  5.37it/s, Episode Reward=130]"
     ]
    },
    {
     "name": "stdout",
     "output_type": "stream",
     "text": [
      "Frame: 4727, Episode Reward: 130.0\n"
     ]
    },
    {
     "name": "stderr",
     "output_type": "stream",
     "text": [
      "Training:  19%|█▉        | 5710/30000 [17:35<1:15:13,  5.38it/s, Episode Reward=720]"
     ]
    },
    {
     "name": "stdout",
     "output_type": "stream",
     "text": [
      "Frame: 5709, Episode Reward: 720.0\n"
     ]
    },
    {
     "name": "stderr",
     "output_type": "stream",
     "text": [
      "Training:  22%|██▏       | 6625/30000 [20:23<1:12:20,  5.39it/s, Episode Reward=630]"
     ]
    },
    {
     "name": "stdout",
     "output_type": "stream",
     "text": [
      "Frame: 6624, Episode Reward: 630.0\n"
     ]
    },
    {
     "name": "stderr",
     "output_type": "stream",
     "text": [
      "Training:  24%|██▍       | 7307/30000 [22:32<1:13:10,  5.17it/s, Episode Reward=280]"
     ]
    },
    {
     "name": "stdout",
     "output_type": "stream",
     "text": [
      "Frame: 7306, Episode Reward: 280.0\n"
     ]
    },
    {
     "name": "stderr",
     "output_type": "stream",
     "text": [
      "Training:  27%|██▋       | 7993/30000 [24:38<1:10:02,  5.24it/s, Episode Reward=210]"
     ]
    },
    {
     "name": "stdout",
     "output_type": "stream",
     "text": [
      "Frame: 7992, Episode Reward: 210.0\n"
     ]
    },
    {
     "name": "stderr",
     "output_type": "stream",
     "text": [
      "Training:  29%|██▉       | 8711/30000 [26:49<1:05:44,  5.40it/s, Episode Reward=1010.0]"
     ]
    },
    {
     "name": "stdout",
     "output_type": "stream",
     "text": [
      "Frame: 8710, Episode Reward: 1010.0\n"
     ]
    },
    {
     "name": "stderr",
     "output_type": "stream",
     "text": [
      "Training:  31%|███       | 9365/30000 [28:51<1:06:34,  5.17it/s, Episode Reward=340]   "
     ]
    },
    {
     "name": "stdout",
     "output_type": "stream",
     "text": [
      "Frame: 9364, Episode Reward: 340.0\n"
     ]
    },
    {
     "name": "stderr",
     "output_type": "stream",
     "text": [
      "Training:  33%|███▎      | 9940/30000 [30:37<1:00:04,  5.56it/s, Episode Reward=320]"
     ]
    },
    {
     "name": "stdout",
     "output_type": "stream",
     "text": [
      "Frame: 9940, Episode Reward: 320.0\n"
     ]
    },
    {
     "name": "stderr",
     "output_type": "stream",
     "text": [
      "Training:  35%|███▌      | 10550/30000 [32:29<1:03:01,  5.14it/s, Episode Reward=490]"
     ]
    },
    {
     "name": "stdout",
     "output_type": "stream",
     "text": [
      "Frame: 10549, Episode Reward: 490.0\n"
     ]
    },
    {
     "name": "stderr",
     "output_type": "stream",
     "text": [
      "Training:  38%|███▊      | 11452/30000 [35:15<57:24,  5.39it/s, Episode Reward=370]  "
     ]
    },
    {
     "name": "stdout",
     "output_type": "stream",
     "text": [
      "Frame: 11451, Episode Reward: 370.0\n"
     ]
    },
    {
     "name": "stderr",
     "output_type": "stream",
     "text": [
      "Training:  41%|████      | 12166/30000 [37:27<52:07,  5.70it/s, Episode Reward=580]  "
     ]
    },
    {
     "name": "stdout",
     "output_type": "stream",
     "text": [
      "Frame: 12166, Episode Reward: 580.0\n"
     ]
    },
    {
     "name": "stderr",
     "output_type": "stream",
     "text": [
      "Training:  43%|████▎     | 12776/30000 [39:19<50:46,  5.65it/s, Episode Reward=490]  "
     ]
    },
    {
     "name": "stdout",
     "output_type": "stream",
     "text": [
      "Frame: 12775, Episode Reward: 490.0\n"
     ]
    },
    {
     "name": "stderr",
     "output_type": "stream",
     "text": [
      "Training:  44%|████▍     | 13327/30000 [41:03<50:38,  5.49it/s, Episode Reward=350]  "
     ]
    },
    {
     "name": "stdout",
     "output_type": "stream",
     "text": [
      "Frame: 13326, Episode Reward: 350.0\n"
     ]
    },
    {
     "name": "stderr",
     "output_type": "stream",
     "text": [
      "Training:  46%|████▋     | 13922/30000 [42:53<48:57,  5.47it/s, Episode Reward=460]"
     ]
    },
    {
     "name": "stdout",
     "output_type": "stream",
     "text": [
      "Frame: 13921, Episode Reward: 460.0\n"
     ]
    },
    {
     "name": "stderr",
     "output_type": "stream",
     "text": [
      "Training:  48%|████▊     | 14453/30000 [44:30<47:52,  5.41it/s, Episode Reward=220]"
     ]
    },
    {
     "name": "stdout",
     "output_type": "stream",
     "text": [
      "Frame: 14452, Episode Reward: 220.0\n"
     ]
    },
    {
     "name": "stderr",
     "output_type": "stream",
     "text": [
      "Training:  50%|█████     | 15062/30000 [46:24<44:53,  5.55it/s, Episode Reward=480]  "
     ]
    },
    {
     "name": "stdout",
     "output_type": "stream",
     "text": [
      "Frame: 15061, Episode Reward: 480.0\n"
     ]
    },
    {
     "name": "stderr",
     "output_type": "stream",
     "text": [
      "Training:  53%|█████▎    | 15813/30000 [48:40<44:02,  5.37it/s, Episode Reward=360]"
     ]
    },
    {
     "name": "stdout",
     "output_type": "stream",
     "text": [
      "Frame: 15812, Episode Reward: 360.0\n"
     ]
    },
    {
     "name": "stderr",
     "output_type": "stream",
     "text": [
      "Training:  55%|█████▍    | 16400/30000 [50:25<43:42,  5.19it/s, Episode Reward=230]"
     ]
    },
    {
     "name": "stdout",
     "output_type": "stream",
     "text": [
      "Frame: 16399, Episode Reward: 230.0\n"
     ]
    },
    {
     "name": "stderr",
     "output_type": "stream",
     "text": [
      "Training:  57%|█████▋    | 17164/30000 [52:44<37:13,  5.75it/s, Episode Reward=510]"
     ]
    },
    {
     "name": "stdout",
     "output_type": "stream",
     "text": [
      "Frame: 17163, Episode Reward: 510.0\n"
     ]
    },
    {
     "name": "stderr",
     "output_type": "stream",
     "text": [
      "Training:  59%|█████▉    | 17820/30000 [54:43<38:11,  5.31it/s, Episode Reward=370]"
     ]
    },
    {
     "name": "stdout",
     "output_type": "stream",
     "text": [
      "Frame: 17819, Episode Reward: 370.0\n"
     ]
    },
    {
     "name": "stderr",
     "output_type": "stream",
     "text": [
      "Training:  62%|██████▏   | 18594/30000 [57:09<34:26,  5.52it/s, Episode Reward=740]"
     ]
    },
    {
     "name": "stdout",
     "output_type": "stream",
     "text": [
      "Frame: 18593, Episode Reward: 740.0\n"
     ]
    },
    {
     "name": "stderr",
     "output_type": "stream",
     "text": [
      "Training:  65%|██████▌   | 19591/30000 [1:00:12<31:08,  5.57it/s, Episode Reward=520]"
     ]
    },
    {
     "name": "stdout",
     "output_type": "stream",
     "text": [
      "Frame: 19591, Episode Reward: 520.0\n"
     ]
    },
    {
     "name": "stderr",
     "output_type": "stream",
     "text": [
      "Training:  68%|██████▊   | 20354/30000 [1:02:35<31:21,  5.13it/s, Episode Reward=610]"
     ]
    },
    {
     "name": "stdout",
     "output_type": "stream",
     "text": [
      "Frame: 20354, Episode Reward: 610.0\n"
     ]
    },
    {
     "name": "stderr",
     "output_type": "stream",
     "text": [
      "Training:  70%|███████   | 21108/30000 [1:05:01<28:42,  5.16it/s, Episode Reward=1e+3]"
     ]
    },
    {
     "name": "stdout",
     "output_type": "stream",
     "text": [
      "Frame: 21107, Episode Reward: 1000.0\n"
     ]
    },
    {
     "name": "stderr",
     "output_type": "stream",
     "text": [
      "Training:  74%|███████▎  | 22052/30000 [1:08:07<25:53,  5.12it/s, Episode Reward=800] "
     ]
    },
    {
     "name": "stdout",
     "output_type": "stream",
     "text": [
      "Frame: 22051, Episode Reward: 800.0\n"
     ]
    },
    {
     "name": "stderr",
     "output_type": "stream",
     "text": [
      "Training:  77%|███████▋  | 23198/30000 [1:11:51<21:46,  5.21it/s, Episode Reward=1390.0]"
     ]
    },
    {
     "name": "stdout",
     "output_type": "stream",
     "text": [
      "Frame: 23197, Episode Reward: 1390.0\n"
     ]
    },
    {
     "name": "stderr",
     "output_type": "stream",
     "text": [
      "Training:  79%|███████▉  | 23634/30000 [1:13:16<20:26,  5.19it/s, Episode Reward=220]   "
     ]
    },
    {
     "name": "stdout",
     "output_type": "stream",
     "text": [
      "Frame: 23634, Episode Reward: 220.0\n"
     ]
    },
    {
     "name": "stderr",
     "output_type": "stream",
     "text": [
      "Training:  81%|████████  | 24175/30000 [1:15:04<23:37,  4.11it/s, Episode Reward=390]"
     ]
    },
    {
     "name": "stdout",
     "output_type": "stream",
     "text": [
      "Frame: 24175, Episode Reward: 390.0\n"
     ]
    },
    {
     "name": "stderr",
     "output_type": "stream",
     "text": [
      "Training:  82%|████████▏ | 24744/30000 [1:16:56<17:45,  4.93it/s, Episode Reward=310]"
     ]
    },
    {
     "name": "stdout",
     "output_type": "stream",
     "text": [
      "Frame: 24743, Episode Reward: 310.0\n"
     ]
    },
    {
     "name": "stderr",
     "output_type": "stream",
     "text": [
      "Training:  85%|████████▌ | 25501/30000 [1:19:25<15:02,  4.99it/s, Episode Reward=610]"
     ]
    },
    {
     "name": "stdout",
     "output_type": "stream",
     "text": [
      "Frame: 25500, Episode Reward: 610.0\n"
     ]
    },
    {
     "name": "stderr",
     "output_type": "stream",
     "text": [
      "Training:  88%|████████▊ | 26401/30000 [1:22:25<12:04,  4.97it/s, Episode Reward=930]"
     ]
    },
    {
     "name": "stdout",
     "output_type": "stream",
     "text": [
      "Frame: 26401, Episode Reward: 930.0\n"
     ]
    },
    {
     "name": "stderr",
     "output_type": "stream",
     "text": [
      "Training:  89%|████████▉ | 26846/30000 [1:23:53<10:29,  5.01it/s, Episode Reward=210]"
     ]
    },
    {
     "name": "stdout",
     "output_type": "stream",
     "text": [
      "Frame: 26845, Episode Reward: 210.0\n"
     ]
    },
    {
     "name": "stderr",
     "output_type": "stream",
     "text": [
      "Training:  92%|█████████▏| 27661/30000 [1:26:37<07:50,  4.97it/s, Episode Reward=610]"
     ]
    },
    {
     "name": "stdout",
     "output_type": "stream",
     "text": [
      "Frame: 27661, Episode Reward: 610.0\n"
     ]
    },
    {
     "name": "stderr",
     "output_type": "stream",
     "text": [
      "Training:  96%|█████████▌| 28831/30000 [1:30:34<03:46,  5.16it/s, Episode Reward=460]"
     ]
    },
    {
     "name": "stdout",
     "output_type": "stream",
     "text": [
      "Frame: 28830, Episode Reward: 460.0\n"
     ]
    },
    {
     "name": "stderr",
     "output_type": "stream",
     "text": [
      "Training:  99%|█████████▊| 29612/30000 [1:33:12<01:17,  4.98it/s, Episode Reward=950]"
     ]
    },
    {
     "name": "stdout",
     "output_type": "stream",
     "text": [
      "Frame: 29612, Episode Reward: 950.0\n"
     ]
    },
    {
     "name": "stderr",
     "output_type": "stream",
     "text": [
      "Training: 100%|██████████| 30000/30000 [1:34:31<00:00,  5.29it/s, Episode Reward=950]"
     ]
    },
    {
     "name": "stdout",
     "output_type": "stream",
     "text": [
      "▶Training finished!\n"
     ]
    },
    {
     "name": "stderr",
     "output_type": "stream",
     "text": [
      "\n"
     ]
    }
   ],
   "source": [
    "#%%\n",
    "\n",
    "# Experiment D: lr=1e-5, multi_step=5, alpha=0.6\n",
    "hparams_D = hparams_A.copy()\n",
    "hparams_D['multi_step'] = 5\n",
    "hparams_D['alpha'] = 0.6\n",
    "\n",
    "rewards_D = run_experiment(hparams_D)\n",
    "all_results['D'] = (hparams_D, rewards_D)"
   ]
  },
  {
   "cell_type": "code",
   "execution_count": null,
   "id": "456d208e-08b2-4d7d-ac33-d811d0e6a4b0",
   "metadata": {},
   "outputs": [
    {
     "data": {
      "image/png": "[encoded data removed]",
      "text/plain": [
       "<Figure size 800x400 with 1 Axes>"
      ]
     },
     "metadata": {},
     "output_type": "display_data"
    }
   ],
   "source": [
    "#%%\n",
    "\n",
    "plt.figure(figsize=(8,4))\n",
    "plt.plot(rewards_D, label='D: lr=1e-5, ms=5, α=0.6')\n",
    "plt.xlabel('Episode'); plt.ylabel('Total Reward')\n",
    "plt.title('Experiment D')\n",
    "plt.legend()\n",
    "plt.show()"
   ]
  },
  {
   "cell_type": "code",
   "execution_count": null,
   "id": "db2686df-634c-4ac4-af3b-1a28c03e04a5",
   "metadata": {},
   "outputs": [
    {
     "name": "stderr",
     "output_type": "stream",
     "text": [
      "Training:   2%|▏         | 710/30000 [02:35<1:48:15,  4.51it/s, Episode Reward=70]"
     ]
    },
    {
     "name": "stdout",
     "output_type": "stream",
     "text": [
      "Frame: 710, Episode Reward: 70.0\n"
     ]
    },
    {
     "name": "stderr",
     "output_type": "stream",
     "text": [
      "Training:   5%|▍         | 1421/30000 [05:17<1:51:07,  4.29it/s, Episode Reward=70]"
     ]
    },
    {
     "name": "stdout",
     "output_type": "stream",
     "text": [
      "Frame: 1421, Episode Reward: 70.0\n"
     ]
    },
    {
     "name": "stderr",
     "output_type": "stream",
     "text": [
      "Training:   8%|▊         | 2325/30000 [08:39<1:30:18,  5.11it/s, Episode Reward=250]"
     ]
    },
    {
     "name": "stdout",
     "output_type": "stream",
     "text": [
      "Frame: 2324, Episode Reward: 250.0\n"
     ]
    },
    {
     "name": "stderr",
     "output_type": "stream",
     "text": [
      "Training:  11%|█         | 3203/30000 [11:30<1:27:45,  5.09it/s, Episode Reward=260]"
     ]
    },
    {
     "name": "stdout",
     "output_type": "stream",
     "text": [
      "Frame: 3202, Episode Reward: 260.0\n"
     ]
    },
    {
     "name": "stderr",
     "output_type": "stream",
     "text": [
      "Training:  13%|█▎        | 3989/30000 [14:20<1:34:52,  4.57it/s, Episode Reward=260]"
     ]
    },
    {
     "name": "stdout",
     "output_type": "stream",
     "text": [
      "Frame: 3989, Episode Reward: 260.0\n"
     ]
    },
    {
     "name": "stderr",
     "output_type": "stream",
     "text": [
      "Training:  17%|█▋        | 5084/30000 [18:02<1:24:41,  4.90it/s, Episode Reward=440]"
     ]
    },
    {
     "name": "stdout",
     "output_type": "stream",
     "text": [
      "Frame: 5084, Episode Reward: 440.0\n"
     ]
    },
    {
     "name": "stderr",
     "output_type": "stream",
     "text": [
      "Training:  20%|█▉        | 5970/30000 [20:59<1:21:25,  4.92it/s, Episode Reward=570]"
     ]
    },
    {
     "name": "stdout",
     "output_type": "stream",
     "text": [
      "Frame: 5970, Episode Reward: 570.0\n"
     ]
    },
    {
     "name": "stderr",
     "output_type": "stream",
     "text": [
      "Training:  22%|██▏       | 6640/30000 [23:19<1:15:43,  5.14it/s, Episode Reward=270]"
     ]
    },
    {
     "name": "stdout",
     "output_type": "stream",
     "text": [
      "Frame: 6639, Episode Reward: 270.0\n"
     ]
    },
    {
     "name": "stderr",
     "output_type": "stream",
     "text": [
      "Training:  25%|██▌       | 7559/30000 [26:26<1:13:07,  5.11it/s, Episode Reward=410]"
     ]
    },
    {
     "name": "stdout",
     "output_type": "stream",
     "text": [
      "Frame: 7558, Episode Reward: 410.0\n"
     ]
    },
    {
     "name": "stderr",
     "output_type": "stream",
     "text": [
      "Training:  28%|██▊       | 8260/30000 [28:49<1:11:54,  5.04it/s, Episode Reward=440]"
     ]
    },
    {
     "name": "stdout",
     "output_type": "stream",
     "text": [
      "Frame: 8259, Episode Reward: 440.0\n"
     ]
    },
    {
     "name": "stderr",
     "output_type": "stream",
     "text": [
      "Training:  30%|███       | 9010/30000 [31:22<1:09:46,  5.01it/s, Episode Reward=610]"
     ]
    },
    {
     "name": "stdout",
     "output_type": "stream",
     "text": [
      "Frame: 9010, Episode Reward: 610.0\n"
     ]
    },
    {
     "name": "stderr",
     "output_type": "stream",
     "text": [
      "Training:  34%|███▎      | 10076/30000 [34:59<1:07:04,  4.95it/s, Episode Reward=450]"
     ]
    },
    {
     "name": "stdout",
     "output_type": "stream",
     "text": [
      "Frame: 10075, Episode Reward: 450.0\n"
     ]
    },
    {
     "name": "stderr",
     "output_type": "stream",
     "text": [
      "Training:  36%|███▌      | 10807/30000 [37:31<1:06:11,  4.83it/s, Episode Reward=390]"
     ]
    },
    {
     "name": "stdout",
     "output_type": "stream",
     "text": [
      "Frame: 10807, Episode Reward: 390.0\n"
     ]
    },
    {
     "name": "stderr",
     "output_type": "stream",
     "text": [
      "Training:  39%|███▉      | 11672/30000 [40:37<1:07:17,  4.54it/s, Episode Reward=1800.0]"
     ]
    },
    {
     "name": "stdout",
     "output_type": "stream",
     "text": [
      "Frame: 11672, Episode Reward: 1800.0\n"
     ]
    },
    {
     "name": "stderr",
     "output_type": "stream",
     "text": [
      "Training:  41%|████      | 12219/30000 [42:35<1:04:57,  4.56it/s, Episode Reward=290]   "
     ]
    },
    {
     "name": "stdout",
     "output_type": "stream",
     "text": [
      "Frame: 12219, Episode Reward: 290.0\n"
     ]
    },
    {
     "name": "stderr",
     "output_type": "stream",
     "text": [
      "Training:  43%|████▎     | 12939/30000 [45:10<1:01:18,  4.64it/s, Episode Reward=300]"
     ]
    },
    {
     "name": "stdout",
     "output_type": "stream",
     "text": [
      "Frame: 12939, Episode Reward: 300.0\n"
     ]
    },
    {
     "name": "stderr",
     "output_type": "stream",
     "text": [
      "Training:  45%|████▌     | 13539/30000 [47:23<1:03:02,  4.35it/s, Episode Reward=120]"
     ]
    },
    {
     "name": "stdout",
     "output_type": "stream",
     "text": [
      "Frame: 13539, Episode Reward: 120.0\n"
     ]
    },
    {
     "name": "stderr",
     "output_type": "stream",
     "text": [
      "Training:  48%|████▊     | 14316/30000 [50:11<56:15,  4.65it/s, Episode Reward=200]  "
     ]
    },
    {
     "name": "stdout",
     "output_type": "stream",
     "text": [
      "Frame: 14316, Episode Reward: 200.0\n"
     ]
    },
    {
     "name": "stderr",
     "output_type": "stream",
     "text": [
      "Training:  50%|████▉     | 14874/30000 [52:13<53:35,  4.70it/s, Episode Reward=300]  "
     ]
    },
    {
     "name": "stdout",
     "output_type": "stream",
     "text": [
      "Frame: 14874, Episode Reward: 300.0\n"
     ]
    },
    {
     "name": "stderr",
     "output_type": "stream",
     "text": [
      "Training:  52%|█████▏    | 15450/30000 [54:17<51:32,  4.70it/s, Episode Reward=120]  "
     ]
    },
    {
     "name": "stdout",
     "output_type": "stream",
     "text": [
      "Frame: 15450, Episode Reward: 120.0\n"
     ]
    },
    {
     "name": "stderr",
     "output_type": "stream",
     "text": [
      "Training:  54%|█████▍    | 16216/30000 [57:00<48:06,  4.78it/s, Episode Reward=290]"
     ]
    },
    {
     "name": "stdout",
     "output_type": "stream",
     "text": [
      "Frame: 16215, Episode Reward: 290.0\n"
     ]
    },
    {
     "name": "stderr",
     "output_type": "stream",
     "text": [
      "Training:  56%|█████▌    | 16848/30000 [59:17<47:16,  4.64it/s, Episode Reward=200]  "
     ]
    },
    {
     "name": "stdout",
     "output_type": "stream",
     "text": [
      "Frame: 16848, Episode Reward: 200.0\n"
     ]
    },
    {
     "name": "stderr",
     "output_type": "stream",
     "text": [
      "Training:  58%|█████▊    | 17427/30000 [1:01:20<42:15,  4.96it/s, Episode Reward=230]"
     ]
    },
    {
     "name": "stdout",
     "output_type": "stream",
     "text": [
      "Frame: 17427, Episode Reward: 230.0\n"
     ]
    },
    {
     "name": "stderr",
     "output_type": "stream",
     "text": [
      "Training:  60%|█████▉    | 17948/30000 [1:03:10<45:42,  4.40it/s, Episode Reward=130]"
     ]
    },
    {
     "name": "stdout",
     "output_type": "stream",
     "text": [
      "Frame: 17948, Episode Reward: 130.0\n"
     ]
    },
    {
     "name": "stderr",
     "output_type": "stream",
     "text": [
      "Training:  62%|██████▏   | 18543/30000 [1:05:16<40:09,  4.75it/s, Episode Reward=150]"
     ]
    },
    {
     "name": "stdout",
     "output_type": "stream",
     "text": [
      "Frame: 18543, Episode Reward: 150.0\n"
     ]
    },
    {
     "name": "stderr",
     "output_type": "stream",
     "text": [
      "Training:  64%|██████▍   | 19304/30000 [1:08:00<36:20,  4.90it/s, Episode Reward=250]"
     ]
    },
    {
     "name": "stdout",
     "output_type": "stream",
     "text": [
      "Frame: 19304, Episode Reward: 250.0\n"
     ]
    },
    {
     "name": "stderr",
     "output_type": "stream",
     "text": [
      "Training:  66%|██████▋   | 19884/30000 [1:10:03<35:51,  4.70it/s, Episode Reward=130]"
     ]
    },
    {
     "name": "stdout",
     "output_type": "stream",
     "text": [
      "Frame: 19883, Episode Reward: 130.0\n"
     ]
    },
    {
     "name": "stderr",
     "output_type": "stream",
     "text": [
      "Training:  68%|██████▊   | 20352/30000 [1:11:43<34:42,  4.63it/s, Episode Reward=130]"
     ]
    },
    {
     "name": "stdout",
     "output_type": "stream",
     "text": [
      "Frame: 20352, Episode Reward: 130.0\n"
     ]
    },
    {
     "name": "stderr",
     "output_type": "stream",
     "text": [
      "Training:  70%|██████▉   | 20860/30000 [1:13:30<32:06,  4.74it/s, Episode Reward=190]"
     ]
    },
    {
     "name": "stdout",
     "output_type": "stream",
     "text": [
      "Frame: 20860, Episode Reward: 190.0\n"
     ]
    },
    {
     "name": "stderr",
     "output_type": "stream",
     "text": [
      "Training:  71%|███████▏  | 21417/30000 [1:15:29<29:51,  4.79it/s, Episode Reward=200]"
     ]
    },
    {
     "name": "stdout",
     "output_type": "stream",
     "text": [
      "Frame: 21417, Episode Reward: 200.0\n"
     ]
    },
    {
     "name": "stderr",
     "output_type": "stream",
     "text": [
      "Training:  74%|███████▍  | 22134/30000 [1:17:58<27:22,  4.79it/s, Episode Reward=310]"
     ]
    },
    {
     "name": "stdout",
     "output_type": "stream",
     "text": [
      "Frame: 22134, Episode Reward: 310.0\n"
     ]
    },
    {
     "name": "stderr",
     "output_type": "stream",
     "text": [
      "Training:  75%|███████▌  | 22629/30000 [1:19:43<25:55,  4.74it/s, Episode Reward=170]"
     ]
    },
    {
     "name": "stdout",
     "output_type": "stream",
     "text": [
      "Frame: 22628, Episode Reward: 170.0\n"
     ]
    },
    {
     "name": "stderr",
     "output_type": "stream",
     "text": [
      "Training:  77%|███████▋  | 23076/30000 [1:21:16<23:32,  4.90it/s, Episode Reward=150]"
     ]
    },
    {
     "name": "stdout",
     "output_type": "stream",
     "text": [
      "Frame: 23075, Episode Reward: 150.0\n"
     ]
    },
    {
     "name": "stderr",
     "output_type": "stream",
     "text": [
      "Training:  78%|███████▊  | 23535/30000 [1:22:51<22:35,  4.77it/s, Episode Reward=150]"
     ]
    },
    {
     "name": "stdout",
     "output_type": "stream",
     "text": [
      "Frame: 23534, Episode Reward: 150.0\n"
     ]
    },
    {
     "name": "stderr",
     "output_type": "stream",
     "text": [
      "Training:  81%|████████  | 24253/30000 [1:25:19<19:50,  4.83it/s, Episode Reward=220]"
     ]
    },
    {
     "name": "stdout",
     "output_type": "stream",
     "text": [
      "Frame: 24253, Episode Reward: 220.0\n"
     ]
    },
    {
     "name": "stderr",
     "output_type": "stream",
     "text": [
      "Training:  84%|████████▍ | 25254/30000 [1:28:47<16:10,  4.89it/s, Episode Reward=600]"
     ]
    },
    {
     "name": "stdout",
     "output_type": "stream",
     "text": [
      "Frame: 25254, Episode Reward: 600.0\n"
     ]
    },
    {
     "name": "stderr",
     "output_type": "stream",
     "text": [
      "Training:  87%|████████▋ | 26106/30000 [1:31:47<14:09,  4.59it/s, Episode Reward=570]"
     ]
    },
    {
     "name": "stdout",
     "output_type": "stream",
     "text": [
      "Frame: 26106, Episode Reward: 570.0\n"
     ]
    },
    {
     "name": "stderr",
     "output_type": "stream",
     "text": [
      "Training:  90%|████████▉ | 26886/30000 [1:34:27<10:11,  5.09it/s, Episode Reward=380]"
     ]
    },
    {
     "name": "stdout",
     "output_type": "stream",
     "text": [
      "Frame: 26885, Episode Reward: 380.0\n"
     ]
    },
    {
     "name": "stderr",
     "output_type": "stream",
     "text": [
      "Training:  92%|█████████▏| 27674/30000 [1:37:10<08:27,  4.58it/s, Episode Reward=640]"
     ]
    },
    {
     "name": "stdout",
     "output_type": "stream",
     "text": [
      "Frame: 27674, Episode Reward: 640.0\n"
     ]
    },
    {
     "name": "stderr",
     "output_type": "stream",
     "text": [
      "Training:  95%|█████████▍| 28433/30000 [1:39:48<05:25,  4.81it/s, Episode Reward=670]"
     ]
    },
    {
     "name": "stdout",
     "output_type": "stream",
     "text": [
      "Frame: 28433, Episode Reward: 670.0\n"
     ]
    },
    {
     "name": "stderr",
     "output_type": "stream",
     "text": [
      "Training:  97%|█████████▋| 29212/30000 [1:42:29<02:40,  4.92it/s, Episode Reward=320]"
     ]
    },
    {
     "name": "stdout",
     "output_type": "stream",
     "text": [
      "Frame: 29212, Episode Reward: 320.0\n"
     ]
    },
    {
     "name": "stderr",
     "output_type": "stream",
     "text": [
      "Training: 100%|██████████| 30000/30000 [1:45:15<00:00,  4.75it/s, Episode Reward=320]"
     ]
    },
    {
     "name": "stdout",
     "output_type": "stream",
     "text": [
      "▶Training finished!\n"
     ]
    },
    {
     "name": "stderr",
     "output_type": "stream",
     "text": [
      "\n"
     ]
    }
   ],
   "source": [
    "#%%\n",
    "\n",
    "# Experiment E: lr=5e-5, multi_step=3, alpha=0.4\n",
    "hparams_E = hparams_A.copy()\n",
    "hparams_E['learning_rate'] = 5e-5\n",
    "\n",
    "rewards_E = run_experiment(hparams_E)\n",
    "all_results['E'] = (hparams_E, rewards_E)"
   ]
  },
  {
   "cell_type": "code",
   "execution_count": null,
   "id": "e5005e52-4045-4114-bd7b-e8bbb4a14e03",
   "metadata": {},
   "outputs": [
    {
     "data": {
      "image/png": "[encoded data removed]",
      "text/plain": [
       "<Figure size 800x400 with 1 Axes>"
      ]
     },
     "metadata": {},
     "output_type": "display_data"
    }
   ],
   "source": [
    "#%%\n",
    "\n",
    "plt.figure(figsize=(8,4))\n",
    "plt.plot(rewards_E, label='E: lr=5e-5, ms=3, α=0.4')\n",
    "plt.xlabel('Episode'); plt.ylabel('Total Reward')\n",
    "plt.title('Experiment E')\n",
    "plt.legend()\n",
    "plt.show()"
   ]
  },
  {
   "cell_type": "code",
   "execution_count": null,
   "id": "a6b25ccb-533c-4204-afbb-4708f7425d1e",
   "metadata": {},
   "outputs": [
    {
     "name": "stderr",
     "output_type": "stream",
     "text": [
      "Training:   3%|▎         | 971/30000 [02:50<1:29:29,  5.41it/s, Episode Reward=210]"
     ]
    },
    {
     "name": "stdout",
     "output_type": "stream",
     "text": [
      "Frame: 970, Episode Reward: 210.0\n"
     ]
    },
    {
     "name": "stderr",
     "output_type": "stream",
     "text": [
      "Training:   6%|▌         | 1653/30000 [04:57<1:29:14,  5.29it/s, Episode Reward=400]"
     ]
    },
    {
     "name": "stdout",
     "output_type": "stream",
     "text": [
      "Frame: 1652, Episode Reward: 400.0\n"
     ]
    },
    {
     "name": "stderr",
     "output_type": "stream",
     "text": [
      "Training:   9%|▉         | 2651/30000 [07:56<1:21:59,  5.56it/s, Episode Reward=240]"
     ]
    },
    {
     "name": "stdout",
     "output_type": "stream",
     "text": [
      "Frame: 2650, Episode Reward: 240.0\n"
     ]
    },
    {
     "name": "stderr",
     "output_type": "stream",
     "text": [
      "Training:  11%|█         | 3303/30000 [09:55<1:18:38,  5.66it/s, Episode Reward=380]"
     ]
    },
    {
     "name": "stdout",
     "output_type": "stream",
     "text": [
      "Frame: 3302, Episode Reward: 380.0\n"
     ]
    },
    {
     "name": "stderr",
     "output_type": "stream",
     "text": [
      "Training:  13%|█▎        | 3859/30000 [11:34<1:19:40,  5.47it/s, Episode Reward=250]"
     ]
    },
    {
     "name": "stdout",
     "output_type": "stream",
     "text": [
      "Frame: 3858, Episode Reward: 250.0\n"
     ]
    },
    {
     "name": "stderr",
     "output_type": "stream",
     "text": [
      "Training:  15%|█▍        | 4387/30000 [13:08<1:13:38,  5.80it/s, Episode Reward=300]"
     ]
    },
    {
     "name": "stdout",
     "output_type": "stream",
     "text": [
      "Frame: 4386, Episode Reward: 300.0\n"
     ]
    },
    {
     "name": "stderr",
     "output_type": "stream",
     "text": [
      "Training:  17%|█▋        | 5008/30000 [14:59<1:17:25,  5.38it/s, Episode Reward=370]"
     ]
    },
    {
     "name": "stdout",
     "output_type": "stream",
     "text": [
      "Frame: 5007, Episode Reward: 370.0\n"
     ]
    },
    {
     "name": "stderr",
     "output_type": "stream",
     "text": [
      "Training:  19%|█▉        | 5661/30000 [16:59<1:13:45,  5.50it/s, Episode Reward=300]"
     ]
    },
    {
     "name": "stdout",
     "output_type": "stream",
     "text": [
      "Frame: 5660, Episode Reward: 300.0\n"
     ]
    },
    {
     "name": "stderr",
     "output_type": "stream",
     "text": [
      "Training:  21%|██        | 6373/30000 [19:07<1:07:56,  5.80it/s, Episode Reward=300]"
     ]
    },
    {
     "name": "stdout",
     "output_type": "stream",
     "text": [
      "Frame: 6372, Episode Reward: 300.0\n"
     ]
    },
    {
     "name": "stderr",
     "output_type": "stream",
     "text": [
      "Training:  23%|██▎       | 7026/30000 [21:05<1:09:31,  5.51it/s, Episode Reward=300]"
     ]
    },
    {
     "name": "stdout",
     "output_type": "stream",
     "text": [
      "Frame: 7025, Episode Reward: 300.0\n"
     ]
    },
    {
     "name": "stderr",
     "output_type": "stream",
     "text": [
      "Training:  25%|██▌       | 7642/30000 [22:54<1:09:00,  5.40it/s, Episode Reward=370]"
     ]
    },
    {
     "name": "stdout",
     "output_type": "stream",
     "text": [
      "Frame: 7641, Episode Reward: 370.0\n"
     ]
    },
    {
     "name": "stderr",
     "output_type": "stream",
     "text": [
      "Training:  28%|██▊       | 8545/30000 [25:36<1:04:14,  5.57it/s, Episode Reward=410]"
     ]
    },
    {
     "name": "stdout",
     "output_type": "stream",
     "text": [
      "Frame: 8544, Episode Reward: 410.0\n"
     ]
    },
    {
     "name": "stderr",
     "output_type": "stream",
     "text": [
      "Training:  30%|███       | 9041/30000 [27:05<1:01:48,  5.65it/s, Episode Reward=300]"
     ]
    },
    {
     "name": "stdout",
     "output_type": "stream",
     "text": [
      "Frame: 9040, Episode Reward: 300.0\n"
     ]
    },
    {
     "name": "stderr",
     "output_type": "stream",
     "text": [
      "Training:  33%|███▎      | 9781/30000 [29:21<59:53,  5.63it/s, Episode Reward=370]  "
     ]
    },
    {
     "name": "stdout",
     "output_type": "stream",
     "text": [
      "Frame: 9781, Episode Reward: 370.0\n"
     ]
    },
    {
     "name": "stderr",
     "output_type": "stream",
     "text": [
      "Training:  35%|███▍      | 10358/30000 [31:07<1:01:14,  5.35it/s, Episode Reward=270]"
     ]
    },
    {
     "name": "stdout",
     "output_type": "stream",
     "text": [
      "Frame: 10357, Episode Reward: 270.0\n"
     ]
    },
    {
     "name": "stderr",
     "output_type": "stream",
     "text": [
      "Training:  36%|███▋      | 10899/30000 [32:47<56:07,  5.67it/s, Episode Reward=250]  "
     ]
    },
    {
     "name": "stdout",
     "output_type": "stream",
     "text": [
      "Frame: 10898, Episode Reward: 250.0\n"
     ]
    },
    {
     "name": "stderr",
     "output_type": "stream",
     "text": [
      "Training:  38%|███▊      | 11338/30000 [34:08<56:10,  5.54it/s, Episode Reward=270]  "
     ]
    },
    {
     "name": "stdout",
     "output_type": "stream",
     "text": [
      "Frame: 11338, Episode Reward: 270.0\n"
     ]
    },
    {
     "name": "stderr",
     "output_type": "stream",
     "text": [
      "Training:  40%|███▉      | 11895/30000 [35:49<54:57,  5.49it/s, Episode Reward=280]  "
     ]
    },
    {
     "name": "stdout",
     "output_type": "stream",
     "text": [
      "Frame: 11895, Episode Reward: 280.0\n"
     ]
    },
    {
     "name": "stderr",
     "output_type": "stream",
     "text": [
      "Training:  41%|████▏     | 12408/30000 [37:21<54:03,  5.42it/s, Episode Reward=280]  "
     ]
    },
    {
     "name": "stdout",
     "output_type": "stream",
     "text": [
      "Frame: 12407, Episode Reward: 280.0\n"
     ]
    },
    {
     "name": "stderr",
     "output_type": "stream",
     "text": [
      "Training:  43%|████▎     | 12897/30000 [38:51<50:13,  5.67it/s, Episode Reward=280]"
     ]
    },
    {
     "name": "stdout",
     "output_type": "stream",
     "text": [
      "Frame: 12896, Episode Reward: 280.0\n"
     ]
    },
    {
     "name": "stderr",
     "output_type": "stream",
     "text": [
      "Training:  45%|████▌     | 13500/30000 [40:37<47:32,  5.78it/s, Episode Reward=350]"
     ]
    },
    {
     "name": "stdout",
     "output_type": "stream",
     "text": [
      "Frame: 13499, Episode Reward: 350.0\n"
     ]
    },
    {
     "name": "stderr",
     "output_type": "stream",
     "text": [
      "Training:  47%|████▋     | 14128/30000 [42:39<50:34,  5.23it/s, Episode Reward=350]  "
     ]
    },
    {
     "name": "stdout",
     "output_type": "stream",
     "text": [
      "Frame: 14127, Episode Reward: 350.0\n"
     ]
    },
    {
     "name": "stderr",
     "output_type": "stream",
     "text": [
      "Training:  51%|█████     | 15172/30000 [45:56<46:55,  5.27it/s, Episode Reward=500]"
     ]
    },
    {
     "name": "stdout",
     "output_type": "stream",
     "text": [
      "Frame: 15171, Episode Reward: 500.0\n"
     ]
    },
    {
     "name": "stderr",
     "output_type": "stream",
     "text": [
      "Training:  52%|█████▏    | 15595/30000 [47:16<45:44,  5.25it/s, Episode Reward=260]"
     ]
    },
    {
     "name": "stdout",
     "output_type": "stream",
     "text": [
      "Frame: 15594, Episode Reward: 260.0\n"
     ]
    },
    {
     "name": "stderr",
     "output_type": "stream",
     "text": [
      "Training:  54%|█████▎    | 16104/30000 [48:55<45:10,  5.13it/s, Episode Reward=280]"
     ]
    },
    {
     "name": "stdout",
     "output_type": "stream",
     "text": [
      "Frame: 16103, Episode Reward: 280.0\n"
     ]
    },
    {
     "name": "stderr",
     "output_type": "stream",
     "text": [
      "Training:  56%|█████▌    | 16686/30000 [50:46<42:26,  5.23it/s, Episode Reward=370]"
     ]
    },
    {
     "name": "stdout",
     "output_type": "stream",
     "text": [
      "Frame: 16685, Episode Reward: 370.0\n"
     ]
    },
    {
     "name": "stderr",
     "output_type": "stream",
     "text": [
      "Training:  57%|█████▋    | 17198/30000 [52:28<41:42,  5.11it/s, Episode Reward=330]"
     ]
    },
    {
     "name": "stdout",
     "output_type": "stream",
     "text": [
      "Frame: 17198, Episode Reward: 330.0\n"
     ]
    },
    {
     "name": "stderr",
     "output_type": "stream",
     "text": [
      "Training:  59%|█████▉    | 17707/30000 [54:05<39:31,  5.18it/s, Episode Reward=380]"
     ]
    },
    {
     "name": "stdout",
     "output_type": "stream",
     "text": [
      "Frame: 17706, Episode Reward: 380.0\n"
     ]
    },
    {
     "name": "stderr",
     "output_type": "stream",
     "text": [
      "Training:  61%|██████    | 18220/30000 [55:47<38:09,  5.15it/s, Episode Reward=360]"
     ]
    },
    {
     "name": "stdout",
     "output_type": "stream",
     "text": [
      "Frame: 18219, Episode Reward: 360.0\n"
     ]
    },
    {
     "name": "stderr",
     "output_type": "stream",
     "text": [
      "Training:  63%|██████▎   | 18814/30000 [57:40<36:36,  5.09it/s, Episode Reward=450]"
     ]
    },
    {
     "name": "stdout",
     "output_type": "stream",
     "text": [
      "Frame: 18813, Episode Reward: 450.0\n"
     ]
    },
    {
     "name": "stderr",
     "output_type": "stream",
     "text": [
      "Training:  66%|██████▌   | 19702/30000 [1:00:35<31:34,  5.43it/s, Episode Reward=620]"
     ]
    },
    {
     "name": "stdout",
     "output_type": "stream",
     "text": [
      "Frame: 19701, Episode Reward: 620.0\n"
     ]
    },
    {
     "name": "stderr",
     "output_type": "stream",
     "text": [
      "Training:  68%|██████▊   | 20371/30000 [1:02:50<38:31,  4.17it/s, Episode Reward=470]"
     ]
    },
    {
     "name": "stdout",
     "output_type": "stream",
     "text": [
      "Frame: 20371, Episode Reward: 470.0\n"
     ]
    },
    {
     "name": "stderr",
     "output_type": "stream",
     "text": [
      "Training:  70%|██████▉   | 20911/30000 [1:04:26<28:12,  5.37it/s, Episode Reward=410]"
     ]
    },
    {
     "name": "stdout",
     "output_type": "stream",
     "text": [
      "Frame: 20910, Episode Reward: 410.0\n"
     ]
    },
    {
     "name": "stderr",
     "output_type": "stream",
     "text": [
      "Training:  72%|███████▏  | 21487/30000 [1:06:13<33:50,  4.19it/s, Episode Reward=350]"
     ]
    },
    {
     "name": "stdout",
     "output_type": "stream",
     "text": [
      "Frame: 21487, Episode Reward: 350.0\n"
     ]
    },
    {
     "name": "stderr",
     "output_type": "stream",
     "text": [
      "Training:  74%|███████▍  | 22195/30000 [1:08:38<26:06,  4.98it/s, Episode Reward=360]"
     ]
    },
    {
     "name": "stdout",
     "output_type": "stream",
     "text": [
      "Frame: 22195, Episode Reward: 360.0\n"
     ]
    },
    {
     "name": "stderr",
     "output_type": "stream",
     "text": [
      "Training:  76%|███████▌  | 22863/30000 [1:10:40<21:00,  5.66it/s, Episode Reward=370]"
     ]
    },
    {
     "name": "stdout",
     "output_type": "stream",
     "text": [
      "Frame: 22862, Episode Reward: 370.0\n"
     ]
    },
    {
     "name": "stderr",
     "output_type": "stream",
     "text": [
      "Training:  78%|███████▊  | 23525/30000 [1:12:44<20:42,  5.21it/s, Episode Reward=450]"
     ]
    },
    {
     "name": "stdout",
     "output_type": "stream",
     "text": [
      "Frame: 23525, Episode Reward: 450.0\n"
     ]
    },
    {
     "name": "stderr",
     "output_type": "stream",
     "text": [
      "Training:  80%|███████▉  | 23973/30000 [1:14:11<18:21,  5.47it/s, Episode Reward=180]"
     ]
    },
    {
     "name": "stdout",
     "output_type": "stream",
     "text": [
      "Frame: 23973, Episode Reward: 180.0\n"
     ]
    },
    {
     "name": "stderr",
     "output_type": "stream",
     "text": [
      "Training:  83%|████████▎ | 24817/30000 [1:16:52<16:28,  5.24it/s, Episode Reward=350]"
     ]
    },
    {
     "name": "stdout",
     "output_type": "stream",
     "text": [
      "Frame: 24816, Episode Reward: 350.0\n"
     ]
    },
    {
     "name": "stderr",
     "output_type": "stream",
     "text": [
      "Training:  84%|████████▍ | 25225/30000 [1:18:13<15:04,  5.28it/s, Episode Reward=180]"
     ]
    },
    {
     "name": "stdout",
     "output_type": "stream",
     "text": [
      "Frame: 25224, Episode Reward: 180.0\n"
     ]
    },
    {
     "name": "stderr",
     "output_type": "stream",
     "text": [
      "Training:  86%|████████▋ | 25924/30000 [1:20:28<12:16,  5.53it/s, Episode Reward=500]"
     ]
    },
    {
     "name": "stdout",
     "output_type": "stream",
     "text": [
      "Frame: 25923, Episode Reward: 500.0\n"
     ]
    },
    {
     "name": "stderr",
     "output_type": "stream",
     "text": [
      "Training:  90%|████████▉ | 26865/30000 [1:23:16<08:38,  6.04it/s, Episode Reward=830]"
     ]
    },
    {
     "name": "stdout",
     "output_type": "stream",
     "text": [
      "Frame: 26864, Episode Reward: 830.0\n"
     ]
    },
    {
     "name": "stderr",
     "output_type": "stream",
     "text": [
      "Training:  92%|█████████▏| 27749/30000 [1:25:55<07:19,  5.12it/s, Episode Reward=670]"
     ]
    },
    {
     "name": "stdout",
     "output_type": "stream",
     "text": [
      "Frame: 27748, Episode Reward: 670.0\n"
     ]
    },
    {
     "name": "stderr",
     "output_type": "stream",
     "text": [
      "Training:  94%|█████████▍| 28202/30000 [1:27:27<07:13,  4.15it/s, Episode Reward=340]"
     ]
    },
    {
     "name": "stdout",
     "output_type": "stream",
     "text": [
      "Frame: 28202, Episode Reward: 340.0\n"
     ]
    },
    {
     "name": "stderr",
     "output_type": "stream",
     "text": [
      "Training:  96%|█████████▌| 28828/30000 [1:29:27<04:25,  4.41it/s, Episode Reward=360]"
     ]
    },
    {
     "name": "stdout",
     "output_type": "stream",
     "text": [
      "Frame: 28828, Episode Reward: 360.0\n"
     ]
    },
    {
     "name": "stderr",
     "output_type": "stream",
     "text": [
      "Training:  99%|█████████▉| 29730/30000 [1:32:07<00:47,  5.71it/s, Episode Reward=1160.0]"
     ]
    },
    {
     "name": "stdout",
     "output_type": "stream",
     "text": [
      "Frame: 29729, Episode Reward: 1160.0\n"
     ]
    },
    {
     "name": "stderr",
     "output_type": "stream",
     "text": [
      "Training: 100%|██████████| 30000/30000 [1:32:56<00:00,  5.38it/s, Episode Reward=1160.0]\n"
     ]
    },
    {
     "name": "stdout",
     "output_type": "stream",
     "text": [
      "▶Training finished!\n"
     ]
    }
   ],
   "source": [
    "#%%\n",
    "\n",
    "# Experiment F: lr=5e-5, multi_step=3, alpha=0.6\n",
    "hparams_F = hparams_A.copy()\n",
    "hparams_F['learning_rate'] = 5e-5\n",
    "hparams_F['alpha'] = 0.6\n",
    "\n",
    "rewards_F = run_experiment(hparams_F)\n",
    "all_results['F'] = (hparams_F, rewards_F)"
   ]
  },
  {
   "cell_type": "code",
   "execution_count": null,
   "id": "6cf50dd5-fba8-44d2-87fa-90ecac49e142",
   "metadata": {},
   "outputs": [
    {
     "data": {
      "image/png": "[encoded data removed]",
      "text/plain": [
       "<Figure size 800x400 with 1 Axes>"
      ]
     },
     "metadata": {},
     "output_type": "display_data"
    }
   ],
   "source": [
    "#%%\n",
    "\n",
    "plt.figure(figsize=(8,4))\n",
    "plt.plot(rewards_F, label='F: lr=5e-5, ms=3, α=0.6')\n",
    "plt.xlabel('Episode'); plt.ylabel('Total Reward')\n",
    "plt.title('Experiment F')\n",
    "plt.legend()\n",
    "plt.show()"
   ]
  },
  {
   "cell_type": "code",
   "execution_count": null,
   "id": "a44939ce-2f4b-4641-a489-9faae8d47fd9",
   "metadata": {},
   "outputs": [
    {
     "name": "stderr",
     "output_type": "stream",
     "text": [
      "Training:   2%|▏         | 668/30000 [01:47<1:25:05,  5.75it/s, Episode Reward=90]"
     ]
    },
    {
     "name": "stdout",
     "output_type": "stream",
     "text": [
      "Frame: 667, Episode Reward: 90.0\n"
     ]
    },
    {
     "name": "stderr",
     "output_type": "stream",
     "text": [
      "Training:   4%|▍         | 1338/30000 [03:41<1:23:46,  5.70it/s, Episode Reward=90]"
     ]
    },
    {
     "name": "stdout",
     "output_type": "stream",
     "text": [
      "Frame: 1337, Episode Reward: 90.0\n"
     ]
    },
    {
     "name": "stderr",
     "output_type": "stream",
     "text": [
      "Training:   7%|▋         | 1999/30000 [05:42<1:22:10,  5.68it/s, Episode Reward=90]"
     ]
    },
    {
     "name": "stdout",
     "output_type": "stream",
     "text": [
      "Frame: 1998, Episode Reward: 90.0\n"
     ]
    },
    {
     "name": "stderr",
     "output_type": "stream",
     "text": [
      "Training:   9%|▊         | 2563/30000 [07:21<1:17:35,  5.89it/s, Episode Reward=120]"
     ]
    },
    {
     "name": "stdout",
     "output_type": "stream",
     "text": [
      "Frame: 2562, Episode Reward: 120.0\n"
     ]
    },
    {
     "name": "stderr",
     "output_type": "stream",
     "text": [
      "Training:  10%|█         | 3087/30000 [08:57<1:16:39,  5.85it/s, Episode Reward=160]"
     ]
    },
    {
     "name": "stdout",
     "output_type": "stream",
     "text": [
      "Frame: 3086, Episode Reward: 160.0\n"
     ]
    },
    {
     "name": "stderr",
     "output_type": "stream",
     "text": [
      "Training:  12%|█▏        | 3641/30000 [10:34<1:14:09,  5.92it/s, Episode Reward=280]"
     ]
    },
    {
     "name": "stdout",
     "output_type": "stream",
     "text": [
      "Frame: 3640, Episode Reward: 280.0\n"
     ]
    },
    {
     "name": "stderr",
     "output_type": "stream",
     "text": [
      "Training:  16%|█▌        | 4661/30000 [13:36<1:16:19,  5.53it/s, Episode Reward=870]"
     ]
    },
    {
     "name": "stdout",
     "output_type": "stream",
     "text": [
      "Frame: 4660, Episode Reward: 870.0\n"
     ]
    },
    {
     "name": "stderr",
     "output_type": "stream",
     "text": [
      "Training:  18%|█▊        | 5413/30000 [15:51<1:12:11,  5.68it/s, Episode Reward=290]"
     ]
    },
    {
     "name": "stdout",
     "output_type": "stream",
     "text": [
      "Frame: 5412, Episode Reward: 290.0\n"
     ]
    },
    {
     "name": "stderr",
     "output_type": "stream",
     "text": [
      "Training:  21%|██        | 6194/30000 [18:15<1:13:40,  5.39it/s, Episode Reward=430]"
     ]
    },
    {
     "name": "stdout",
     "output_type": "stream",
     "text": [
      "Frame: 6193, Episode Reward: 430.0\n"
     ]
    },
    {
     "name": "stderr",
     "output_type": "stream",
     "text": [
      "Training:  23%|██▎       | 6999/30000 [20:39<1:07:08,  5.71it/s, Episode Reward=510]"
     ]
    },
    {
     "name": "stdout",
     "output_type": "stream",
     "text": [
      "Frame: 6998, Episode Reward: 510.0\n"
     ]
    },
    {
     "name": "stderr",
     "output_type": "stream",
     "text": [
      "Training:  25%|██▌       | 7623/30000 [22:31<1:07:51,  5.50it/s, Episode Reward=130]"
     ]
    },
    {
     "name": "stdout",
     "output_type": "stream",
     "text": [
      "Frame: 7622, Episode Reward: 130.0\n"
     ]
    },
    {
     "name": "stderr",
     "output_type": "stream",
     "text": [
      "Training:  27%|██▋       | 8050/30000 [23:46<1:03:22,  5.77it/s, Episode Reward=170]"
     ]
    },
    {
     "name": "stdout",
     "output_type": "stream",
     "text": [
      "Frame: 8049, Episode Reward: 170.0\n"
     ]
    },
    {
     "name": "stderr",
     "output_type": "stream",
     "text": [
      "Training:  29%|██▉       | 8747/30000 [25:51<1:02:42,  5.65it/s, Episode Reward=230]"
     ]
    },
    {
     "name": "stdout",
     "output_type": "stream",
     "text": [
      "Frame: 8746, Episode Reward: 230.0\n"
     ]
    },
    {
     "name": "stderr",
     "output_type": "stream",
     "text": [
      "Training:  33%|███▎      | 10007/30000 [29:38<55:24,  6.01it/s, Episode Reward=520] "
     ]
    },
    {
     "name": "stdout",
     "output_type": "stream",
     "text": [
      "Frame: 10006, Episode Reward: 520.0\n"
     ]
    },
    {
     "name": "stderr",
     "output_type": "stream",
     "text": [
      "Training:  36%|███▌      | 10665/30000 [31:39<55:35,  5.80it/s, Episode Reward=420]  "
     ]
    },
    {
     "name": "stdout",
     "output_type": "stream",
     "text": [
      "Frame: 10664, Episode Reward: 420.0\n"
     ]
    },
    {
     "name": "stderr",
     "output_type": "stream",
     "text": [
      "Training:  39%|███▉      | 11689/30000 [34:44<58:55,  5.18it/s, Episode Reward=270]  "
     ]
    },
    {
     "name": "stdout",
     "output_type": "stream",
     "text": [
      "Frame: 11688, Episode Reward: 270.0\n"
     ]
    },
    {
     "name": "stderr",
     "output_type": "stream",
     "text": [
      "Training:  42%|████▏     | 12663/30000 [37:41<54:39,  5.29it/s, Episode Reward=450]  "
     ]
    },
    {
     "name": "stdout",
     "output_type": "stream",
     "text": [
      "Frame: 12662, Episode Reward: 450.0\n"
     ]
    },
    {
     "name": "stderr",
     "output_type": "stream",
     "text": [
      "Training:  45%|████▌     | 13540/30000 [40:16<50:15,  5.46it/s, Episode Reward=420]  "
     ]
    },
    {
     "name": "stdout",
     "output_type": "stream",
     "text": [
      "Frame: 13539, Episode Reward: 420.0\n"
     ]
    },
    {
     "name": "stderr",
     "output_type": "stream",
     "text": [
      "Training:  47%|████▋     | 14228/30000 [42:20<48:22,  5.43it/s, Episode Reward=170]"
     ]
    },
    {
     "name": "stdout",
     "output_type": "stream",
     "text": [
      "Frame: 14227, Episode Reward: 170.0\n"
     ]
    },
    {
     "name": "stderr",
     "output_type": "stream",
     "text": [
      "Training:  50%|█████     | 15091/30000 [45:01<42:47,  5.81it/s, Episode Reward=420]  "
     ]
    },
    {
     "name": "stdout",
     "output_type": "stream",
     "text": [
      "Frame: 15090, Episode Reward: 420.0\n"
     ]
    },
    {
     "name": "stderr",
     "output_type": "stream",
     "text": [
      "Training:  54%|█████▎    | 16084/30000 [48:02<40:59,  5.66it/s, Episode Reward=590]  "
     ]
    },
    {
     "name": "stdout",
     "output_type": "stream",
     "text": [
      "Frame: 16083, Episode Reward: 590.0\n"
     ]
    },
    {
     "name": "stderr",
     "output_type": "stream",
     "text": [
      "Training:  57%|█████▋    | 17087/30000 [50:48<39:28,  5.45it/s, Episode Reward=1160.0]"
     ]
    },
    {
     "name": "stdout",
     "output_type": "stream",
     "text": [
      "Frame: 17086, Episode Reward: 1160.0\n"
     ]
    },
    {
     "name": "stderr",
     "output_type": "stream",
     "text": [
      "Training:  59%|█████▉    | 17787/30000 [52:48<30:48,  6.61it/s, Episode Reward=240]   "
     ]
    },
    {
     "name": "stdout",
     "output_type": "stream",
     "text": [
      "Frame: 17786, Episode Reward: 240.0\n"
     ]
    },
    {
     "name": "stderr",
     "output_type": "stream",
     "text": [
      "Training:  62%|██████▏   | 18587/30000 [54:59<31:00,  6.13it/s, Episode Reward=700]"
     ]
    },
    {
     "name": "stdout",
     "output_type": "stream",
     "text": [
      "Frame: 18586, Episode Reward: 700.0\n"
     ]
    },
    {
     "name": "stderr",
     "output_type": "stream",
     "text": [
      "Training:  65%|██████▍   | 19433/30000 [57:25<30:33,  5.76it/s, Episode Reward=730]"
     ]
    },
    {
     "name": "stdout",
     "output_type": "stream",
     "text": [
      "Frame: 19432, Episode Reward: 730.0\n"
     ]
    },
    {
     "name": "stderr",
     "output_type": "stream",
     "text": [
      "Training:  68%|██████▊   | 20443/30000 [1:00:13<24:30,  6.50it/s, Episode Reward=900]"
     ]
    },
    {
     "name": "stdout",
     "output_type": "stream",
     "text": [
      "Frame: 20442, Episode Reward: 900.0\n"
     ]
    },
    {
     "name": "stderr",
     "output_type": "stream",
     "text": [
      "Training:  70%|███████   | 21086/30000 [1:01:56<23:27,  6.33it/s, Episode Reward=270]"
     ]
    },
    {
     "name": "stdout",
     "output_type": "stream",
     "text": [
      "Frame: 21085, Episode Reward: 270.0\n"
     ]
    },
    {
     "name": "stderr",
     "output_type": "stream",
     "text": [
      "Training:  73%|███████▎  | 21860/30000 [1:04:03<22:42,  5.98it/s, Episode Reward=770]"
     ]
    },
    {
     "name": "stdout",
     "output_type": "stream",
     "text": [
      "Frame: 21859, Episode Reward: 770.0\n"
     ]
    },
    {
     "name": "stderr",
     "output_type": "stream",
     "text": [
      "Training:  75%|███████▌  | 22585/30000 [1:06:04<22:55,  5.39it/s, Episode Reward=310]"
     ]
    },
    {
     "name": "stdout",
     "output_type": "stream",
     "text": [
      "Frame: 22584, Episode Reward: 310.0\n"
     ]
    },
    {
     "name": "stderr",
     "output_type": "stream",
     "text": [
      "Training:  77%|███████▋  | 23224/30000 [1:07:49<17:40,  6.39it/s, Episode Reward=250]"
     ]
    },
    {
     "name": "stdout",
     "output_type": "stream",
     "text": [
      "Frame: 23223, Episode Reward: 250.0\n"
     ]
    },
    {
     "name": "stderr",
     "output_type": "stream",
     "text": [
      "Training:  80%|███████▉  | 23866/30000 [1:09:35<16:18,  6.27it/s, Episode Reward=220]"
     ]
    },
    {
     "name": "stdout",
     "output_type": "stream",
     "text": [
      "Frame: 23865, Episode Reward: 220.0\n"
     ]
    },
    {
     "name": "stderr",
     "output_type": "stream",
     "text": [
      "Training:  82%|████████▏ | 24528/30000 [1:11:25<15:16,  5.97it/s, Episode Reward=380]"
     ]
    },
    {
     "name": "stdout",
     "output_type": "stream",
     "text": [
      "Frame: 24527, Episode Reward: 380.0\n"
     ]
    },
    {
     "name": "stderr",
     "output_type": "stream",
     "text": [
      "Training:  84%|████████▍ | 25244/30000 [1:13:26<15:18,  5.18it/s, Episode Reward=350]"
     ]
    },
    {
     "name": "stdout",
     "output_type": "stream",
     "text": [
      "Frame: 25243, Episode Reward: 350.0\n"
     ]
    },
    {
     "name": "stderr",
     "output_type": "stream",
     "text": [
      "Training:  86%|████████▌ | 25851/30000 [1:15:07<11:25,  6.05it/s, Episode Reward=240]"
     ]
    },
    {
     "name": "stdout",
     "output_type": "stream",
     "text": [
      "Frame: 25850, Episode Reward: 240.0\n"
     ]
    },
    {
     "name": "stderr",
     "output_type": "stream",
     "text": [
      "Training:  88%|████████▊ | 26539/30000 [1:17:02<09:38,  5.99it/s, Episode Reward=250]"
     ]
    },
    {
     "name": "stdout",
     "output_type": "stream",
     "text": [
      "Frame: 26538, Episode Reward: 250.0\n"
     ]
    },
    {
     "name": "stderr",
     "output_type": "stream",
     "text": [
      "Training:  91%|█████████ | 27217/30000 [1:18:56<08:04,  5.74it/s, Episode Reward=270]"
     ]
    },
    {
     "name": "stdout",
     "output_type": "stream",
     "text": [
      "Frame: 27216, Episode Reward: 270.0\n"
     ]
    },
    {
     "name": "stderr",
     "output_type": "stream",
     "text": [
      "Training:  93%|█████████▎| 27936/30000 [1:20:57<05:44,  6.00it/s, Episode Reward=430]"
     ]
    },
    {
     "name": "stdout",
     "output_type": "stream",
     "text": [
      "Frame: 27935, Episode Reward: 430.0\n"
     ]
    },
    {
     "name": "stderr",
     "output_type": "stream",
     "text": [
      "Training:  96%|█████████▌| 28860/30000 [1:23:31<03:21,  5.67it/s, Episode Reward=750]"
     ]
    },
    {
     "name": "stdout",
     "output_type": "stream",
     "text": [
      "Frame: 28859, Episode Reward: 750.0\n"
     ]
    },
    {
     "name": "stderr",
     "output_type": "stream",
     "text": [
      "Training:  98%|█████████▊| 29531/30000 [1:25:26<01:22,  5.67it/s, Episode Reward=350]"
     ]
    },
    {
     "name": "stdout",
     "output_type": "stream",
     "text": [
      "Frame: 29530, Episode Reward: 350.0\n"
     ]
    },
    {
     "name": "stderr",
     "output_type": "stream",
     "text": [
      "Training: 100%|██████████| 30000/30000 [1:26:50<00:00,  5.76it/s, Episode Reward=350]"
     ]
    },
    {
     "name": "stdout",
     "output_type": "stream",
     "text": [
      "▶Training finished!\n"
     ]
    },
    {
     "name": "stderr",
     "output_type": "stream",
     "text": [
      "\n"
     ]
    }
   ],
   "source": [
    "#%%\n",
    "\n",
    "# Experiment G: lr=5e-5, multi_step=5, alpha=0.4\n",
    "hparams_G = hparams_A.copy()\n",
    "hparams_G['learning_rate'] = 5e-5\n",
    "hparams_G['multi_step'] = 5\n",
    "\n",
    "rewards_G = run_experiment(hparams_G)\n",
    "all_results['G'] = (hparams_G, rewards_G)"
   ]
  },
  {
   "cell_type": "code",
   "execution_count": null,
   "id": "eb71ba71-fe9f-4ece-8b4a-b70819b68148",
   "metadata": {},
   "outputs": [
    {
     "data": {
      "image/png": "[encoded data removed]",
      "text/plain": [
       "<Figure size 800x400 with 1 Axes>"
      ]
     },
     "metadata": {},
     "output_type": "display_data"
    }
   ],
   "source": [
    "#%%\n",
    "\n",
    "plt.figure(figsize=(8,4))\n",
    "plt.plot(rewards_G, label='G: lr=5e-5, ms=5, α=0.4')\n",
    "plt.xlabel('Episode'); plt.ylabel('Total Reward')\n",
    "plt.title('Experiment G')\n",
    "plt.legend()\n",
    "plt.show()"
   ]
  },
  {
   "cell_type": "code",
   "execution_count": null,
   "id": "6da489d8-6e71-46f7-b562-6d0dcaaaa73b",
   "metadata": {},
   "outputs": [
    {
     "name": "stderr",
     "output_type": "stream",
     "text": [
      "Training:   3%|▎         | 984/30000 [03:10<1:29:05,  5.43it/s, Episode Reward=210]"
     ]
    },
    {
     "name": "stdout",
     "output_type": "stream",
     "text": [
      "Frame: 983, Episode Reward: 210.0\n"
     ]
    },
    {
     "name": "stderr",
     "output_type": "stream",
     "text": [
      "Training:   9%|▊         | 2590/30000 [07:34<1:18:01,  5.86it/s, Episode Reward=550]"
     ]
    },
    {
     "name": "stdout",
     "output_type": "stream",
     "text": [
      "Frame: 2589, Episode Reward: 550.0\n"
     ]
    },
    {
     "name": "stderr",
     "output_type": "stream",
     "text": [
      "Training:  12%|█▏        | 3514/30000 [10:03<1:11:43,  6.15it/s, Episode Reward=600]"
     ]
    },
    {
     "name": "stdout",
     "output_type": "stream",
     "text": [
      "Frame: 3513, Episode Reward: 600.0\n"
     ]
    },
    {
     "name": "stderr",
     "output_type": "stream",
     "text": [
      "Training:  15%|█▍        | 4429/30000 [12:33<1:12:40,  5.86it/s, Episode Reward=1e+3]"
     ]
    },
    {
     "name": "stdout",
     "output_type": "stream",
     "text": [
      "Frame: 4428, Episode Reward: 1000.0\n"
     ]
    },
    {
     "name": "stderr",
     "output_type": "stream",
     "text": [
      "Training:  18%|█▊        | 5283/30000 [14:53<1:06:29,  6.19it/s, Episode Reward=430] "
     ]
    },
    {
     "name": "stdout",
     "output_type": "stream",
     "text": [
      "Frame: 5282, Episode Reward: 430.0\n"
     ]
    },
    {
     "name": "stderr",
     "output_type": "stream",
     "text": [
      "Training:  20%|██        | 6143/30000 [17:16<1:08:28,  5.81it/s, Episode Reward=610]"
     ]
    },
    {
     "name": "stdout",
     "output_type": "stream",
     "text": [
      "Frame: 6142, Episode Reward: 610.0\n"
     ]
    },
    {
     "name": "stderr",
     "output_type": "stream",
     "text": [
      "Training:  23%|██▎       | 6999/30000 [20:00<1:04:30,  5.94it/s, Episode Reward=470]"
     ]
    },
    {
     "name": "stdout",
     "output_type": "stream",
     "text": [
      "Frame: 6999, Episode Reward: 470.0\n"
     ]
    },
    {
     "name": "stderr",
     "output_type": "stream",
     "text": [
      "Training:  26%|██▋       | 7911/30000 [22:47<1:05:46,  5.60it/s, Episode Reward=520]"
     ]
    },
    {
     "name": "stdout",
     "output_type": "stream",
     "text": [
      "Frame: 7910, Episode Reward: 520.0\n"
     ]
    },
    {
     "name": "stderr",
     "output_type": "stream",
     "text": [
      "Training:  30%|██▉       | 8908/30000 [25:39<59:17,  5.93it/s, Episode Reward=410]  "
     ]
    },
    {
     "name": "stdout",
     "output_type": "stream",
     "text": [
      "Frame: 8907, Episode Reward: 410.0\n"
     ]
    },
    {
     "name": "stderr",
     "output_type": "stream",
     "text": [
      "Training:  33%|███▎      | 9892/30000 [28:29<59:40,  5.62it/s, Episode Reward=370]  "
     ]
    },
    {
     "name": "stdout",
     "output_type": "stream",
     "text": [
      "Frame: 9891, Episode Reward: 370.0\n"
     ]
    },
    {
     "name": "stderr",
     "output_type": "stream",
     "text": [
      "Training:  37%|███▋      | 11014/30000 [31:45<57:36,  5.49it/s, Episode Reward=630]  "
     ]
    },
    {
     "name": "stdout",
     "output_type": "stream",
     "text": [
      "Frame: 11013, Episode Reward: 630.0\n"
     ]
    },
    {
     "name": "stderr",
     "output_type": "stream",
     "text": [
      "Training:  40%|████      | 12029/30000 [34:53<55:45,  5.37it/s, Episode Reward=3310.0]"
     ]
    },
    {
     "name": "stdout",
     "output_type": "stream",
     "text": [
      "Frame: 12028, Episode Reward: 3310.0\n"
     ]
    },
    {
     "name": "stderr",
     "output_type": "stream",
     "text": [
      "Training:  42%|████▏     | 12658/30000 [36:52<49:36,  5.83it/s, Episode Reward=250]     "
     ]
    },
    {
     "name": "stdout",
     "output_type": "stream",
     "text": [
      "Frame: 12657, Episode Reward: 250.0\n"
     ]
    },
    {
     "name": "stderr",
     "output_type": "stream",
     "text": [
      "Training:  44%|████▍     | 13274/30000 [38:42<48:17,  5.77it/s, Episode Reward=270]"
     ]
    },
    {
     "name": "stdout",
     "output_type": "stream",
     "text": [
      "Frame: 13273, Episode Reward: 270.0\n"
     ]
    },
    {
     "name": "stderr",
     "output_type": "stream",
     "text": [
      "Training:  46%|████▋     | 13892/30000 [40:31<44:36,  6.02it/s, Episode Reward=290]"
     ]
    },
    {
     "name": "stdout",
     "output_type": "stream",
     "text": [
      "Frame: 13891, Episode Reward: 290.0\n"
     ]
    },
    {
     "name": "stderr",
     "output_type": "stream",
     "text": [
      "Training:  49%|████▉     | 14697/30000 [42:50<47:55,  5.32it/s, Episode Reward=310]"
     ]
    },
    {
     "name": "stdout",
     "output_type": "stream",
     "text": [
      "Frame: 14697, Episode Reward: 310.0\n"
     ]
    },
    {
     "name": "stderr",
     "output_type": "stream",
     "text": [
      "Training:  51%|█████     | 15331/30000 [45:07<51:19,  4.76it/s, Episode Reward=320]  "
     ]
    },
    {
     "name": "stdout",
     "output_type": "stream",
     "text": [
      "Frame: 15330, Episode Reward: 320.0\n"
     ]
    },
    {
     "name": "stderr",
     "output_type": "stream",
     "text": [
      "Training:  54%|█████▍    | 16216/30000 [48:31<52:05,  4.41it/s, Episode Reward=310]  "
     ]
    },
    {
     "name": "stdout",
     "output_type": "stream",
     "text": [
      "Frame: 16216, Episode Reward: 310.0\n"
     ]
    },
    {
     "name": "stderr",
     "output_type": "stream",
     "text": [
      "Training:  56%|█████▌    | 16775/30000 [50:53<48:30,  4.54it/s, Episode Reward=420]  "
     ]
    },
    {
     "name": "stdout",
     "output_type": "stream",
     "text": [
      "Frame: 16775, Episode Reward: 420.0\n"
     ]
    },
    {
     "name": "stderr",
     "output_type": "stream",
     "text": [
      "Training:  58%|█████▊    | 17470/30000 [53:37<41:49,  4.99it/s, Episode Reward=360]  "
     ]
    },
    {
     "name": "stdout",
     "output_type": "stream",
     "text": [
      "Frame: 17469, Episode Reward: 360.0\n"
     ]
    },
    {
     "name": "stderr",
     "output_type": "stream",
     "text": [
      "Training:  61%|██████    | 18218/30000 [56:15<38:22,  5.12it/s, Episode Reward=350]"
     ]
    },
    {
     "name": "stdout",
     "output_type": "stream",
     "text": [
      "Frame: 18218, Episode Reward: 350.0\n"
     ]
    },
    {
     "name": "stderr",
     "output_type": "stream",
     "text": [
      "Training:  63%|██████▎   | 18957/30000 [58:49<35:41,  5.16it/s, Episode Reward=550]"
     ]
    },
    {
     "name": "stdout",
     "output_type": "stream",
     "text": [
      "Frame: 18957, Episode Reward: 550.0\n"
     ]
    },
    {
     "name": "stderr",
     "output_type": "stream",
     "text": [
      "Training:  66%|██████▋   | 19932/30000 [1:02:22<34:03,  4.93it/s, Episode Reward=640]"
     ]
    },
    {
     "name": "stdout",
     "output_type": "stream",
     "text": [
      "Frame: 19931, Episode Reward: 640.0\n"
     ]
    },
    {
     "name": "stderr",
     "output_type": "stream",
     "text": [
      "Training:  69%|██████▊   | 20604/30000 [1:04:46<36:20,  4.31it/s, Episode Reward=550]"
     ]
    },
    {
     "name": "stdout",
     "output_type": "stream",
     "text": [
      "Frame: 20604, Episode Reward: 550.0\n"
     ]
    },
    {
     "name": "stderr",
     "output_type": "stream",
     "text": [
      "Training:  71%|███████   | 21214/30000 [1:06:52<29:08,  5.02it/s, Episode Reward=430]"
     ]
    },
    {
     "name": "stdout",
     "output_type": "stream",
     "text": [
      "Frame: 21213, Episode Reward: 430.0\n"
     ]
    },
    {
     "name": "stderr",
     "output_type": "stream",
     "text": [
      "Training:  74%|███████▍  | 22143/30000 [1:10:05<28:13,  4.64it/s, Episode Reward=690]"
     ]
    },
    {
     "name": "stdout",
     "output_type": "stream",
     "text": [
      "Frame: 22143, Episode Reward: 690.0\n"
     ]
    },
    {
     "name": "stderr",
     "output_type": "stream",
     "text": [
      "Training:  76%|███████▌  | 22849/30000 [1:12:35<25:24,  4.69it/s, Episode Reward=550]"
     ]
    },
    {
     "name": "stdout",
     "output_type": "stream",
     "text": [
      "Frame: 22848, Episode Reward: 550.0\n"
     ]
    },
    {
     "name": "stderr",
     "output_type": "stream",
     "text": [
      "Training:  80%|████████  | 24024/30000 [1:17:10<22:09,  4.50it/s, Episode Reward=3960.0]"
     ]
    },
    {
     "name": "stdout",
     "output_type": "stream",
     "text": [
      "Frame: 24024, Episode Reward: 3960.0\n"
     ]
    },
    {
     "name": "stderr",
     "output_type": "stream",
     "text": [
      "Training:  84%|████████▍ | 25269/30000 [1:21:31<20:07,  3.92it/s, Episode Reward=1270.0]"
     ]
    },
    {
     "name": "stdout",
     "output_type": "stream",
     "text": [
      "Frame: 25269, Episode Reward: 1270.0\n"
     ]
    },
    {
     "name": "stderr",
     "output_type": "stream",
     "text": [
      "Training:  87%|████████▋ | 26101/30000 [1:24:25<12:43,  5.11it/s, Episode Reward=640]   "
     ]
    },
    {
     "name": "stdout",
     "output_type": "stream",
     "text": [
      "Frame: 26101, Episode Reward: 640.0\n"
     ]
    },
    {
     "name": "stderr",
     "output_type": "stream",
     "text": [
      "Training:  91%|█████████ | 27206/30000 [1:28:15<09:57,  4.67it/s, Episode Reward=820]"
     ]
    },
    {
     "name": "stdout",
     "output_type": "stream",
     "text": [
      "Frame: 27206, Episode Reward: 820.0\n"
     ]
    },
    {
     "name": "stderr",
     "output_type": "stream",
     "text": [
      "Training:  93%|█████████▎| 27874/30000 [1:30:33<06:25,  5.51it/s, Episode Reward=370]"
     ]
    },
    {
     "name": "stdout",
     "output_type": "stream",
     "text": [
      "Frame: 27873, Episode Reward: 370.0\n"
     ]
    },
    {
     "name": "stderr",
     "output_type": "stream",
     "text": [
      "Training:  96%|█████████▌| 28753/30000 [1:34:29<05:45,  3.61it/s, Episode Reward=720]"
     ]
    },
    {
     "name": "stdout",
     "output_type": "stream",
     "text": [
      "Frame: 28753, Episode Reward: 720.0\n"
     ]
    },
    {
     "name": "stderr",
     "output_type": "stream",
     "text": [
      "Training:  99%|█████████▊| 29575/30000 [1:37:34<01:34,  4.51it/s, Episode Reward=660]"
     ]
    },
    {
     "name": "stdout",
     "output_type": "stream",
     "text": [
      "Frame: 29575, Episode Reward: 660.0\n"
     ]
    },
    {
     "name": "stderr",
     "output_type": "stream",
     "text": [
      "Training: 100%|██████████| 30000/30000 [1:39:24<00:00,  5.03it/s, Episode Reward=660]"
     ]
    },
    {
     "name": "stdout",
     "output_type": "stream",
     "text": [
      "▶Training finished!\n"
     ]
    },
    {
     "name": "stderr",
     "output_type": "stream",
     "text": [
      "\n"
     ]
    }
   ],
   "source": [
    "#%%\n",
    "\n",
    "# Experiment H: lr=5e-5, multi_step=5, alpha=0.6\n",
    "hparams_H = hparams_A.copy()\n",
    "hparams_H['learning_rate'] = 5e-5\n",
    "hparams_H['multi_step'] = 5\n",
    "hparams_H['alpha'] = 0.6\n",
    "\n",
    "rewards_H = run_experiment(hparams_H)\n",
    "all_results['H'] = (hparams_H, rewards_H)"
   ]
  },
  {
   "cell_type": "code",
   "execution_count": null,
   "id": "c8ce5bfe-075d-49bd-832d-753646cae6f0",
   "metadata": {},
   "outputs": [
    {
     "data": {
      "image/png": "[encoded data removed]",
      "text/plain": [
       "<Figure size 800x400 with 1 Axes>"
      ]
     },
     "metadata": {},
     "output_type": "display_data"
    }
   ],
   "source": [
    "#%%\n",
    "\n",
    "plt.figure(figsize=(8,4))\n",
    "plt.plot(rewards_H, label='H: lr=5e-5, ms=5, α=0.6')\n",
    "plt.xlabel('Episode'); plt.ylabel('Total Reward')\n",
    "plt.title('Experiment H')\n",
    "plt.legend()\n",
    "plt.show()"
   ]
  },
  {
   "cell_type": "code",
   "execution_count": null,
   "id": "ad4a607e-1050-480e-aecf-a17f2a37704c",
   "metadata": {},
   "outputs": [
    {
     "data": {
      "image/png": "[encoded data removed]",
      "text/plain": [
       "<Figure size 1000x600 with 1 Axes>"
      ]
     },
     "metadata": {},
     "output_type": "display_data"
    }
   ],
   "source": [
    "#%%\n",
    "\n",
    "plt.figure(figsize=(10,6))\n",
    "for key, (h, rew) in all_results.items():\n",
    "    plt.plot(rew, label=f\"{key}: lr={h['learning_rate']}, ms={h['multi_step']}, α={h['alpha']}\")\n",
    "plt.xlabel('Episode'); plt.ylabel('Total Reward')\n",
    "plt.title('All Experiments A–H')\n",
    "plt.legend()\n",
    "plt.show()"
   ]
  }
 ],
 "metadata": {
  "language_info": {
   "codemirror_mode": {
    "name": "ipython",
    "version": 3
   },
   "file_extension": ".py",
   "mimetype": "text/x-python",
   "name": "python",
   "nbconvert_exporter": "python",
   "pygments_lexer": "ipython3",
   "version": 3
  }
 },
 "nbformat": 4,
 "nbformat_minor": 2
}
